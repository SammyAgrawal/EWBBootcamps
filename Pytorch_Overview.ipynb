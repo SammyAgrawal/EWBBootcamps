{
 "cells": [
  {
   "cell_type": "code",
   "execution_count": 1,
   "id": "2334de89",
   "metadata": {},
   "outputs": [],
   "source": [
    "import torch\n",
    "import numpy as np\n",
    "import warnings\n",
    "warnings.filterwarnings('ignore')"
   ]
  },
  {
   "cell_type": "code",
   "execution_count": 2,
   "id": "4e6eb1cc",
   "metadata": {},
   "outputs": [],
   "source": [
    "import matplotlib.pyplot as plt\n",
    "import pandas as pd\n",
    "%matplotlib inline"
   ]
  },
  {
   "cell_type": "markdown",
   "id": "1d2fcd54",
   "metadata": {},
   "source": [
    "## Device and Availability\n",
    "\n",
    "Big Advantage of Pytorch is use of GPUs and parallel computing. Can configure to set this up"
   ]
  },
  {
   "cell_type": "code",
   "execution_count": null,
   "id": "9ca3657b",
   "metadata": {},
   "outputs": [],
   "source": [
    "device = \"cuda\" if torch.cuda.is_available() else \"cpu\"\n",
    "print(device)    \n",
    "# create a tensor on a specific device\n",
    "tensor = torch.tensor([1,2,3], device=device)\n",
    "tensor"
   ]
  },
  {
   "cell_type": "markdown",
   "id": "7d589f48",
   "metadata": {
    "jp-MarkdownHeadingCollapsed": true
   },
   "source": [
    "# Tensors\n",
    "Vectors and matrices in Pytorch\n",
    "https://pytorch.org/docs/stable/tensors.html\n",
    "\n",
    "Can create matrices in variety of ways - directly from data in numpy array, or using built in functions"
   ]
  },
  {
   "cell_type": "code",
   "execution_count": 4,
   "id": "7c4cdf4d",
   "metadata": {},
   "outputs": [
    {
     "data": {
      "text/plain": [
       "tensor([[1, 2],\n",
       "        [3, 4]])"
      ]
     },
     "execution_count": 4,
     "metadata": {},
     "output_type": "execute_result"
    }
   ],
   "source": [
    "py_data = [[1,2],[3,4]]\n",
    "numpy_data = np.arange(25).reshape(5,5)\n",
    "torch.tensor(py_data)"
   ]
  },
  {
   "cell_type": "code",
   "execution_count": 5,
   "id": "82cf0a88",
   "metadata": {},
   "outputs": [
    {
     "data": {
      "text/plain": [
       "tensor([[ 0,  1,  2,  3,  4],\n",
       "        [ 5,  6,  7,  8,  9],\n",
       "        [10, 11, 12, 13, 14],\n",
       "        [15, 16, 17, 18, 19],\n",
       "        [20, 21, 22, 23, 24]])"
      ]
     },
     "execution_count": 5,
     "metadata": {},
     "output_type": "execute_result"
    }
   ],
   "source": [
    "torch.tensor(numpy_data)"
   ]
  },
  {
   "cell_type": "code",
   "execution_count": 8,
   "id": "b54afde8",
   "metadata": {},
   "outputs": [
    {
     "data": {
      "text/plain": [
       "array([[ 0,  1,  2,  3,  4],\n",
       "       [ 5,  6,  7,  8,  9],\n",
       "       [10, 11, 12, 13, 14],\n",
       "       [15, 16, 17, 18, 19],\n",
       "       [20, 21, 22, 23, 24]])"
      ]
     },
     "execution_count": 8,
     "metadata": {},
     "output_type": "execute_result"
    }
   ],
   "source": [
    "# can use any numpy operation that we know to manipulate data (including pandas to_numpy) and then easily convert to torch\n",
    "tensor = torch.tensor(numpy_data)\n",
    "torch.from_numpy(numpy_data)\n",
    "tensor.numpy()"
   ]
  },
  {
   "cell_type": "code",
   "execution_count": 7,
   "id": "3b4bb6b5",
   "metadata": {},
   "outputs": [
    {
     "data": {
      "text/plain": [
       "tensor([0.9967, 0.8227, 0.5905, 0.2501, 0.7357, 0.0499, 0.3268, 0.7413, 0.7717,\n",
       "        0.4723, 0.2762, 0.9158, 0.6427, 0.5116, 0.7597, 0.5221, 0.7795, 0.6492,\n",
       "        0.6719, 0.4391, 0.2111, 0.2750, 0.4727, 0.9140, 0.4273, 0.8922, 0.6939,\n",
       "        0.4989, 0.3159, 0.5247, 0.7652, 0.6031, 0.9895, 0.4795, 0.0058, 0.8762,\n",
       "        0.4059, 0.6753, 0.1402, 0.7792, 0.1586, 0.7856, 0.8772, 0.7502, 0.9344,\n",
       "        0.0074, 0.8616, 0.6199, 0.0728, 0.6369, 0.7060, 0.5105, 0.4353, 0.8400,\n",
       "        0.6635, 0.9404, 0.9963, 0.2381, 0.7542, 0.2255, 0.4637, 0.4364, 0.7828,\n",
       "        0.3694, 0.0781, 0.2432, 0.6840, 0.4969, 0.9183, 0.8366, 0.4184, 0.4450,\n",
       "        0.9796, 0.4651, 0.1543, 0.7563, 0.8801, 0.1240, 0.0881, 0.1118, 0.8342,\n",
       "        0.7888, 0.8716, 0.1806, 0.9704, 0.3670, 0.1884, 0.6780, 0.3643, 0.7186,\n",
       "        0.2718, 0.7496, 0.6019, 0.9638, 0.0460, 0.0661, 0.2092, 0.3416, 0.0899,\n",
       "        0.8482])"
      ]
     },
     "execution_count": 7,
     "metadata": {},
     "output_type": "execute_result"
    }
   ],
   "source": [
    "torch.ones(2,4)\n",
    "torch.zeros(8,5)\n",
    "torch.rand(100) # ~ U(0,1)"
   ]
  },
  {
   "cell_type": "code",
   "execution_count": 10,
   "id": "aaa72b1e",
   "metadata": {},
   "outputs": [
    {
     "data": {
      "text/plain": [
       "tensor([[1., 0., 0.],\n",
       "        [0., 1., 0.],\n",
       "        [0., 0., 1.]])"
      ]
     },
     "execution_count": 10,
     "metadata": {},
     "output_type": "execute_result"
    }
   ],
   "source": [
    "# MANY NUMPY METHODS REIMPLEMENTED\n",
    "torch.linspace(0,100,21)\n",
    "torch.eye(3)"
   ]
  },
  {
   "cell_type": "code",
   "execution_count": 11,
   "id": "2ee94e93",
   "metadata": {},
   "outputs": [
    {
     "name": "stdout",
     "output_type": "stream",
     "text": [
      "tensor([[1., 0., 0.],\n",
      "        [0., 1., 0.],\n",
      "        [0., 0., 1.],\n",
      "        [1., 0., 0.],\n",
      "        [0., 1., 0.],\n",
      "        [0., 0., 1.]]) \n",
      "\n",
      "tensor([[1., 0., 0., 1., 0., 0.],\n",
      "        [0., 1., 0., 0., 1., 0.],\n",
      "        [0., 0., 1., 0., 0., 1.]]) \n",
      "\n",
      "tensor([[ 0,  8],\n",
      "        [ 1,  9],\n",
      "        [ 2, 10],\n",
      "        [ 3, 11],\n",
      "        [ 4, 12]])\n",
      "tensor([[0., 0., 1., 1.],\n",
      "        [0., 0., 1., 1.]])\n"
     ]
    }
   ],
   "source": [
    "# COMBINING TENSORS\n",
    "print(torch.concat((torch.eye(3),torch.eye(3)),dim=0),'\\n')\n",
    "print(torch.concat((torch.eye(3),torch.eye(3)),dim=1),'\\n')\n",
    "\n",
    "print(torch.column_stack((torch.tensor(np.arange(5)), torch.tensor(np.arange(5))+8)))\n",
    "print(torch.column_stack((torch.zeros(2,2), torch.ones(2,2))))\n"
   ]
  },
  {
   "cell_type": "markdown",
   "id": "614f45aa",
   "metadata": {},
   "source": [
    "### Tensor Properties- indexing, shape, "
   ]
  },
  {
   "cell_type": "code",
   "execution_count": 12,
   "id": "f41d4043",
   "metadata": {},
   "outputs": [],
   "source": [
    "tensor = torch.tensor(np.arange(25))\n",
    "tensor = tensor.reshape(5,5)"
   ]
  },
  {
   "cell_type": "code",
   "execution_count": 13,
   "id": "57108e01",
   "metadata": {},
   "outputs": [
    {
     "name": "stdout",
     "output_type": "stream",
     "text": [
      "False\n",
      "<class 'torch.Size'>\n",
      "2\n"
     ]
    },
    {
     "data": {
      "text/plain": [
       "torch.Size([5, 5])"
      ]
     },
     "execution_count": 13,
     "metadata": {},
     "output_type": "execute_result"
    }
   ],
   "source": [
    "print(torch.is_tensor(np.arange(5)))\n",
    "print(type(tensor.shape))\n",
    "print(len(tensor.shape))\n",
    "tensor.shape"
   ]
  },
  {
   "cell_type": "code",
   "execution_count": 14,
   "id": "ddedb776",
   "metadata": {},
   "outputs": [
    {
     "data": {
      "text/plain": [
       "25"
      ]
     },
     "execution_count": 14,
     "metadata": {},
     "output_type": "execute_result"
    }
   ],
   "source": [
    "tensor.numel() # number of elements"
   ]
  },
  {
   "cell_type": "code",
   "execution_count": 15,
   "id": "2967a8c3",
   "metadata": {},
   "outputs": [
    {
     "data": {
      "text/plain": [
       "device(type='cpu')"
      ]
     },
     "execution_count": 15,
     "metadata": {},
     "output_type": "execute_result"
    }
   ],
   "source": [
    "tensor.device"
   ]
  },
  {
   "cell_type": "markdown",
   "id": "aa27cadc",
   "metadata": {},
   "source": [
    "*To actually get the element, call .item(). Only works on one element tensors. Default return is tensor object*"
   ]
  },
  {
   "cell_type": "code",
   "execution_count": 16,
   "id": "581830ab",
   "metadata": {},
   "outputs": [
    {
     "name": "stdout",
     "output_type": "stream",
     "text": [
      "tensor([[ 0,  1,  2,  3,  4],\n",
      "        [ 5,  6,  7,  8,  9],\n",
      "        [10, 11, 12, 13, 14],\n",
      "        [15, 16, 17, 18, 19],\n",
      "        [20, 21, 22, 23, 24]])\n",
      "tensor(19)\n",
      "19\n"
     ]
    }
   ],
   "source": [
    "print(tensor)\n",
    "print(tensor[3,4])\n",
    "print(tensor[3,4].item())"
   ]
  },
  {
   "cell_type": "code",
   "execution_count": 22,
   "id": "ac9ea57a",
   "metadata": {},
   "outputs": [
    {
     "data": {
      "text/plain": [
       "tensor([[ 0,  2,  3],\n",
       "        [ 5,  7,  8],\n",
       "        [10, 12, 13],\n",
       "        [15, 17, 18],\n",
       "        [20, 22, 23]])"
      ]
     },
     "execution_count": 22,
     "metadata": {},
     "output_type": "execute_result"
    }
   ],
   "source": [
    "tensor[:, [0,2,3]]"
   ]
  },
  {
   "cell_type": "code",
   "execution_count": 17,
   "id": "d27c0624",
   "metadata": {},
   "outputs": [
    {
     "name": "stdout",
     "output_type": "stream",
     "text": [
      "tensor([5, 6, 7, 8, 9])\n",
      "7\n"
     ]
    },
    {
     "data": {
      "text/plain": [
       "tensor([[ 1,  2],\n",
       "        [ 6,  7],\n",
       "        [11, 12],\n",
       "        [16, 17],\n",
       "        [21, 22]])"
      ]
     },
     "execution_count": 17,
     "metadata": {},
     "output_type": "execute_result"
    }
   ],
   "source": [
    "print(tensor[1])\n",
    "print(tensor[1][2].item())\n",
    "tensor[:,[1,2]]"
   ]
  },
  {
   "cell_type": "code",
   "execution_count": 18,
   "id": "6828b973",
   "metadata": {},
   "outputs": [
    {
     "data": {
      "text/plain": [
       "tensor([[ 0,  5, 10, 15, 20],\n",
       "        [ 1,  6, 11, 16, 21],\n",
       "        [ 2,  7, 12, 17, 22],\n",
       "        [ 3,  8, 13, 18, 23],\n",
       "        [ 4,  9, 14, 19, 24]])"
      ]
     },
     "execution_count": 18,
     "metadata": {},
     "output_type": "execute_result"
    }
   ],
   "source": [
    "tensor.T"
   ]
  },
  {
   "cell_type": "code",
   "execution_count": 16,
   "id": "959a830b",
   "metadata": {},
   "outputs": [
    {
     "data": {
      "text/plain": [
       "tensor([[1.+2.j, -0.+1.j],\n",
       "        [3.-1.j, 5.-0.j]])"
      ]
     },
     "execution_count": 16,
     "metadata": {},
     "output_type": "execute_result"
    }
   ],
   "source": [
    "torch.tensor([[1-2j,3+1j],[-1j,5]]).adjoint()"
   ]
  },
  {
   "cell_type": "code",
   "execution_count": null,
   "id": "cdfcee37",
   "metadata": {},
   "outputs": [],
   "source": []
  },
  {
   "cell_type": "markdown",
   "id": "e2937684",
   "metadata": {},
   "source": [
    "## Operations"
   ]
  },
  {
   "cell_type": "code",
   "execution_count": 27,
   "id": "d655c506",
   "metadata": {},
   "outputs": [
    {
     "name": "stdout",
     "output_type": "stream",
     "text": [
      "[[ 2.32225895 -1.17775137  0.29755711]\n",
      " [ 2.32225895 -1.17775137  0.29755711]\n",
      " [ 2.32225895 -1.17775137  0.29755711]]\n"
     ]
    },
    {
     "data": {
      "text/plain": [
       "tensor([[ 2.3223, -1.1778,  0.2976],\n",
       "        [ 2.3223, -1.1778,  0.2976],\n",
       "        [ 2.3223, -1.1778,  0.2976]])"
      ]
     },
     "execution_count": 27,
     "metadata": {},
     "output_type": "execute_result"
    }
   ],
   "source": [
    "a = np.ones((3,3))\n",
    "b = np.random.randn(3,3)\n",
    "A = torch.ones(3,3, dtype=torch.float32)\n",
    "B = torch.tensor(b, dtype=torch.float32)\n",
    "\n",
    "print(np.dot(a,b))\n",
    "\n",
    "A @ B\n",
    "A.matmul(B)"
   ]
  },
  {
   "cell_type": "code",
   "execution_count": 28,
   "id": "d6453dad",
   "metadata": {},
   "outputs": [
    {
     "name": "stdout",
     "output_type": "stream",
     "text": [
      "[[ 1.50513732 -0.36558043  0.77582464]\n",
      " [ 0.70726606  0.87666619 -0.06560756]\n",
      " [ 0.10985557 -1.68883713 -0.41265998]]\n"
     ]
    },
    {
     "data": {
      "text/plain": [
       "tensor([[ 1.5051, -0.3656,  0.7758],\n",
       "        [ 0.7073,  0.8767, -0.0656],\n",
       "        [ 0.1099, -1.6888, -0.4127]])"
      ]
     },
     "execution_count": 28,
     "metadata": {},
     "output_type": "execute_result"
    }
   ],
   "source": [
    "print(np.multiply(a,b))\n",
    "A.mul(B)\n",
    "A * B"
   ]
  },
  {
   "cell_type": "code",
   "execution_count": 29,
   "id": "576779fd",
   "metadata": {},
   "outputs": [
    {
     "name": "stdout",
     "output_type": "stream",
     "text": [
      "tensor([[6., 6., 6.],\n",
      "        [6., 6., 6.],\n",
      "        [6., 6., 6.]])\n"
     ]
    },
    {
     "data": {
      "text/plain": [
       "tensor([[4., 4., 4.],\n",
       "        [4., 4., 4.],\n",
       "        [4., 4., 4.]])"
      ]
     },
     "execution_count": 29,
     "metadata": {},
     "output_type": "execute_result"
    }
   ],
   "source": [
    "A = torch.ones(3,3, dtype=torch.float32)\n",
    "print(A + 5)\n",
    "A.add(5)\n",
    "A.add_(3) #inplace\n",
    "A"
   ]
  },
  {
   "cell_type": "code",
   "execution_count": 30,
   "id": "243a2efe",
   "metadata": {},
   "outputs": [
    {
     "data": {
      "text/plain": [
       "array([[4., 4., 4.],\n",
       "       [4., 4., 4.],\n",
       "       [4., 4., 4.]], dtype=float32)"
      ]
     },
     "execution_count": 30,
     "metadata": {},
     "output_type": "execute_result"
    }
   ],
   "source": [
    "A.numpy()"
   ]
  },
  {
   "cell_type": "code",
   "execution_count": null,
   "id": "473a3396",
   "metadata": {},
   "outputs": [],
   "source": []
  },
  {
   "cell_type": "code",
   "execution_count": null,
   "id": "0d703e3e",
   "metadata": {},
   "outputs": [],
   "source": []
  },
  {
   "cell_type": "markdown",
   "id": "28552f45",
   "metadata": {
    "jp-MarkdownHeadingCollapsed": true
   },
   "source": [
    "# GOATED: autograd\n",
    "\n",
    "Gradients calculated for us for free by Pytorch!\n",
    "\n",
    "Creates a computation graph: https://pytorch.org/blog/computational-graphs-constructed-in-pytorch/\n",
    "\n",
    "\n",
    "Function Object: https://pytorch.org/docs/stable/autograd.html#function"
   ]
  },
  {
   "cell_type": "code",
   "execution_count": 8,
   "id": "83e309b2-c4eb-4e0a-84a5-2a88866a63d1",
   "metadata": {},
   "outputs": [
    {
     "name": "stdout",
     "output_type": "stream",
     "text": [
      "<SumBackward1 object at 0x159e78c70>\n",
      "None\n"
     ]
    }
   ],
   "source": [
    "#Firstly, not all functions are differentiable but PyTorch won't tell you!\n",
    "# have to check with grad_fn, otw gradient just won't propagate\n",
    "x = torch.randn(10,10, requires_grad=True)\n",
    "out_diff = torch.sum(x, dim=1)\n",
    "out_not_diff = torch.argmax(x, dim=1)\n",
    "\n",
    "print(out_diff.grad_fn)\n",
    "print(out_not_diff.grad_fn)"
   ]
  },
  {
   "cell_type": "code",
   "execution_count": 66,
   "id": "9bff3d82",
   "metadata": {},
   "outputs": [
    {
     "name": "stdout",
     "output_type": "stream",
     "text": [
      "tensor([ 0.3079, -1.9239, -1.3591], requires_grad=True)\n"
     ]
    }
   ],
   "source": [
    "x = torch.randn(3, requires_grad=True) # tracks gradient, default False\n",
    "print(x)"
   ]
  },
  {
   "cell_type": "code",
   "execution_count": 67,
   "id": "2bb57fce",
   "metadata": {},
   "outputs": [
    {
     "data": {
      "text/plain": [
       "tensor([0.1896, 7.4031, 3.6945], grad_fn=<MulBackward0>)"
      ]
     },
     "execution_count": 67,
     "metadata": {},
     "output_type": "execute_result"
    }
   ],
   "source": [
    "y = 2*x*x\n",
    "y"
   ]
  },
  {
   "cell_type": "code",
   "execution_count": 68,
   "id": "852326be",
   "metadata": {},
   "outputs": [],
   "source": [
    "y.backward(torch.tensor([1,1,1]))"
   ]
  },
  {
   "cell_type": "code",
   "execution_count": 70,
   "id": "1a73f206",
   "metadata": {},
   "outputs": [
    {
     "data": {
      "text/plain": [
       "tensor([ 1.2317, -7.6957, -5.4365])"
      ]
     },
     "execution_count": 70,
     "metadata": {},
     "output_type": "execute_result"
    }
   ],
   "source": [
    "x.grad"
   ]
  },
  {
   "cell_type": "code",
   "execution_count": 23,
   "id": "256be19a",
   "metadata": {},
   "outputs": [
    {
     "data": {
      "text/plain": [
       "tensor([12.3558,  9.7566,  0.4916], grad_fn=<MulBackward0>)"
      ]
     },
     "execution_count": 23,
     "metadata": {},
     "output_type": "execute_result"
    }
   ],
   "source": [
    "z = torch.siny*y\n",
    "z"
   ]
  },
  {
   "cell_type": "markdown",
   "id": "c8a36ee9",
   "metadata": {},
   "source": [
    "In the background, creating a vector Jacobian product\n",
    "\n",
    "https://discuss.pytorch.org/t/vector-jacobian-product-calculation/79723"
   ]
  },
  {
   "cell_type": "code",
   "execution_count": 24,
   "id": "d045a1f0",
   "metadata": {
    "scrolled": true
   },
   "outputs": [],
   "source": [
    "v = torch.tensor([0.1, 1.0, .001], dtype=torch.float32) # needed if output is not a scalar\n",
    "z.backward(v) # dz/dx\n",
    "\n",
    "# Calling backward() accumulates gradients in .grad attribute, summed up. Cannot call multiple times"
   ]
  },
  {
   "cell_type": "code",
   "execution_count": 25,
   "id": "9ecbc071",
   "metadata": {},
   "outputs": [
    {
     "name": "stdout",
     "output_type": "stream",
     "text": [
      "tensor([1.4060e+00, 1.2494e+01, 2.8044e-03])\n"
     ]
    }
   ],
   "source": [
    "print(x.grad) # "
   ]
  },
  {
   "cell_type": "code",
   "execution_count": 81,
   "id": "47e73d24",
   "metadata": {},
   "outputs": [
    {
     "name": "stdout",
     "output_type": "stream",
     "text": [
      "tensor([2., 2., 2.])\n",
      "tensor([ 6., 12., 18.])\n"
     ]
    }
   ],
   "source": [
    "x = torch.randn(3, requires_grad=True)\n",
    "y = torch.tensor([1.0,2.0,3.0], requires_grad=True)\n",
    "z = 2*x + 3*y*y\n",
    "z.backward(torch.tensor([1,1,1]))\n",
    "print(x.grad)\n",
    "print(y.grad)"
   ]
  },
  {
   "cell_type": "code",
   "execution_count": 82,
   "id": "684870b1",
   "metadata": {},
   "outputs": [],
   "source": [
    "x = x-x.grad"
   ]
  },
  {
   "cell_type": "code",
   "execution_count": 83,
   "id": "0c441628",
   "metadata": {},
   "outputs": [],
   "source": [
    "x.grad"
   ]
  },
  {
   "cell_type": "code",
   "execution_count": 80,
   "id": "9ae13be2",
   "metadata": {},
   "outputs": [
    {
     "data": {
      "text/plain": [
       "tensor([ 6., 12., 18.])"
      ]
     },
     "execution_count": 80,
     "metadata": {},
     "output_type": "execute_result"
    }
   ],
   "source": [
    "y.grad"
   ]
  },
  {
   "cell_type": "markdown",
   "id": "61e255f6",
   "metadata": {},
   "source": [
    "#### Not tracking certain operations in gradient- 3 options"
   ]
  },
  {
   "cell_type": "code",
   "execution_count": 26,
   "id": "d14e4b8c",
   "metadata": {},
   "outputs": [
    {
     "name": "stdout",
     "output_type": "stream",
     "text": [
      "tensor([-0.1208,  0.2652, -1.3234], requires_grad=True)\n"
     ]
    }
   ],
   "source": [
    "x = torch.randn(3, requires_grad=True)\n",
    "print(x)"
   ]
  },
  {
   "cell_type": "code",
   "execution_count": 27,
   "id": "c98d15bf",
   "metadata": {},
   "outputs": [
    {
     "data": {
      "text/plain": [
       "tensor([-0.1208,  0.2652, -1.3234])"
      ]
     },
     "execution_count": 27,
     "metadata": {},
     "output_type": "execute_result"
    }
   ],
   "source": [
    "#1. requires_grad_(False)\n",
    "x.requires_grad_(False)"
   ]
  },
  {
   "cell_type": "code",
   "execution_count": 28,
   "id": "e6af6a27",
   "metadata": {},
   "outputs": [
    {
     "data": {
      "text/plain": [
       "tensor([ 0.0824, -1.0320, -0.6063])"
      ]
     },
     "execution_count": 28,
     "metadata": {},
     "output_type": "execute_result"
    }
   ],
   "source": [
    "x = torch.randn(3, requires_grad=True)\n",
    "y = x.detach()\n",
    "y"
   ]
  },
  {
   "cell_type": "code",
   "execution_count": 29,
   "id": "727d5bde",
   "metadata": {},
   "outputs": [
    {
     "name": "stdout",
     "output_type": "stream",
     "text": [
      "tensor([2.0824, 0.9680, 1.3937])\n"
     ]
    }
   ],
   "source": [
    "with torch.no_grad():\n",
    "    loss = x+2\n",
    "    print(loss)"
   ]
  },
  {
   "cell_type": "markdown",
   "id": "ced2bea2",
   "metadata": {},
   "source": [
    "### Resetting gradient each loop- VERY IMPORTANT"
   ]
  },
  {
   "cell_type": "code",
   "execution_count": 30,
   "id": "2e61b94e",
   "metadata": {},
   "outputs": [
    {
     "name": "stdout",
     "output_type": "stream",
     "text": [
      "tensor([3., 3., 3., 3.])\n",
      "tensor([6., 6., 6., 6.])\n",
      "tensor([9., 9., 9., 9.])\n"
     ]
    }
   ],
   "source": [
    "weights = torch.randn(4, requires_grad=True)\n",
    "for epoch in range(3):\n",
    "    loss = (weights * 3).sum()\n",
    "    loss.backward()\n",
    "    print(weights.grad) #BAD! Not resetting"
   ]
  },
  {
   "cell_type": "code",
   "execution_count": 63,
   "id": "bc0c242c",
   "metadata": {},
   "outputs": [
    {
     "name": "stdout",
     "output_type": "stream",
     "text": [
      "tensor([3., 3., 3., 3.])\n",
      "tensor([3., 3., 3., 3.])\n",
      "tensor([3., 3., 3., 3.])\n"
     ]
    }
   ],
   "source": [
    "weights = torch.randn(4, requires_grad=True)\n",
    "for epoch in range(3):\n",
    "    loss = (weights * 3).sum()\n",
    "    loss.backward()\n",
    "    print(weights.grad) #Good! Resetting\n",
    "    weights.grad.zero_()"
   ]
  },
  {
   "cell_type": "code",
   "execution_count": 47,
   "id": "5e0acb1f",
   "metadata": {},
   "outputs": [
    {
     "name": "stdout",
     "output_type": "stream",
     "text": [
      "Gradient function for z = <AddBackward0 object at 0x7f8c71d2f100>\n",
      "Gradient function for loss = <BinaryCrossEntropyWithLogitsBackward0 object at 0x7f8c71d2f730>\n",
      "tensor([[0.0026, 0.3047, 0.2663],\n",
      "        [0.0026, 0.3047, 0.2663],\n",
      "        [0.0026, 0.3047, 0.2663],\n",
      "        [0.0026, 0.3047, 0.2663],\n",
      "        [0.0026, 0.3047, 0.2663]])\n",
      "tensor([[0.0026, 0.3047, 0.2663]])\n"
     ]
    }
   ],
   "source": [
    "x = torch.ones(1,5) #input\n",
    "y = torch.zeros(1,3) #expected output\n",
    "\n",
    "W = torch.randn(5,3, requires_grad=True)\n",
    "b = torch.randn(1,3, requires_grad = True)\n",
    "\n",
    "z = torch.matmul(x,W)+b\n",
    "loss = torch.nn.functional.binary_cross_entropy_with_logits(z,y)\n",
    "\n",
    "print(f\"Gradient function for z = {z.grad_fn}\")\n",
    "print(f\"Gradient function for loss = {loss.grad_fn}\")\n",
    "\n",
    "loss.backward()\n",
    "print(W.grad)\n",
    "print(b.grad)"
   ]
  },
  {
   "cell_type": "code",
   "execution_count": null,
   "id": "8b3cbe18",
   "metadata": {},
   "outputs": [],
   "source": []
  },
  {
   "cell_type": "markdown",
   "id": "29cefef9",
   "metadata": {
    "jp-MarkdownHeadingCollapsed": true
   },
   "source": [
    "# Datasets and Dataloaders"
   ]
  },
  {
   "cell_type": "markdown",
   "id": "56f387bf",
   "metadata": {},
   "source": [
    "$\\text{Datasets come from 2 places. torch has many built in datasets which one can iterate over and use.}\\\\\n",
    "\\text{Alternatively, can use base classes for custom dataset}$\n",
    "\n",
    "Dataloaders are an iterator wrapper class over datasets. These are very supportive of batching. "
   ]
  },
  {
   "cell_type": "code",
   "execution_count": 6,
   "id": "86310227",
   "metadata": {},
   "outputs": [],
   "source": [
    "import torchvision\n",
    "from torchvision import datasets"
   ]
  },
  {
   "cell_type": "code",
   "execution_count": 7,
   "id": "2a336278",
   "metadata": {},
   "outputs": [],
   "source": [
    "train = datasets.FashionMNIST(\n",
    "    root='data',\n",
    "    train=True,\n",
    "    download=True,\n",
    "    transform= torchvision.transforms.ToTensor()\n",
    ")\n",
    "\n",
    "test = datasets.FashionMNIST(\n",
    "    root='data',\n",
    "    train=False,\n",
    "    download=True,\n",
    "    transform= torchvision.transforms.ToTensor()\n",
    ")\n",
    "\n",
    "labels_map = {\n",
    "    0: \"T-Shirt\",\n",
    "    1: \"Trouser\",\n",
    "    2: \"Pullover\",\n",
    "    3: \"Dress\",\n",
    "    4: \"Coat\",\n",
    "    5: \"Sandal\",\n",
    "    6: \"Shirt\",\n",
    "    7: \"Sneaker\",\n",
    "    8: \"Bag\",\n",
    "    9: \"Ankle Boot\",\n",
    "}\n"
   ]
  },
  {
   "cell_type": "code",
   "execution_count": 8,
   "id": "598c9574",
   "metadata": {},
   "outputs": [
    {
     "data": {
      "text/plain": [
       "Dataset FashionMNIST\n",
       "    Number of datapoints: 60000\n",
       "    Root location: data\n",
       "    Split: Train\n",
       "    StandardTransform\n",
       "Transform: ToTensor()"
      ]
     },
     "execution_count": 8,
     "metadata": {},
     "output_type": "execute_result"
    }
   ],
   "source": [
    "train"
   ]
  },
  {
   "cell_type": "code",
   "execution_count": 10,
   "id": "a00fbdd9",
   "metadata": {},
   "outputs": [
    {
     "data": {
      "text/plain": [
       "torch.Tensor"
      ]
     },
     "execution_count": 10,
     "metadata": {},
     "output_type": "execute_result"
    }
   ],
   "source": [
    "X, y = train[0]\n",
    "type(X)"
   ]
  },
  {
   "cell_type": "code",
   "execution_count": 36,
   "id": "da34db95",
   "metadata": {},
   "outputs": [
    {
     "data": {
      "text/plain": [
       "Dataset FashionMNIST\n",
       "    Number of datapoints: 10000\n",
       "    Root location: data\n",
       "    Split: Test\n",
       "    StandardTransform\n",
       "Transform: ToTensor()"
      ]
     },
     "execution_count": 36,
     "metadata": {},
     "output_type": "execute_result"
    }
   ],
   "source": [
    "test"
   ]
  },
  {
   "cell_type": "code",
   "execution_count": 11,
   "id": "f50fa94a",
   "metadata": {},
   "outputs": [
    {
     "name": "stdout",
     "output_type": "stream",
     "text": [
      "Shape of image:  torch.Size([1, 28, 28])\n",
      "Classification: 9, Ankle Boot\n"
     ]
    },
    {
     "data": {
      "image/png": "[encoded data removed]",
      "text/plain": [
       "<Figure size 800x800 with 9 Axes>"
      ]
     },
     "metadata": {},
     "output_type": "display_data"
    }
   ],
   "source": [
    "X, y = train[0]\n",
    "print(\"Shape of image: \", X.shape)\n",
    "print(f\"Classification: {y}, {labels_map[y]}\")\n",
    "figure, cols, rows = plt.figure(figsize=(8,8)), 3, 3\n",
    "for i in range(1, cols*rows+1):\n",
    "    rand_index = torch.randint(len(train), size=(1,1)).item()\n",
    "    X, y = train[rand_index]\n",
    "    figure.add_subplot(rows, cols, i)\n",
    "    plt.title(labels_map[y])\n",
    "    plt.axis(\"off\")\n",
    "    plt.imshow(X.squeeze(), cmap=\"gray\")\n",
    "plt.show()"
   ]
  },
  {
   "cell_type": "markdown",
   "id": "96503c8e",
   "metadata": {},
   "source": [
    "## Transforms- used by all Datasets\n",
    "\n",
    "https://pytorch.org/tutorials/beginner/basics/transforms_tutorial.html\n",
    "\n",
    "Common Vision Transforms: \n",
    "https://pytorch.org/vision/stable/transforms.html"
   ]
  },
  {
   "cell_type": "code",
   "execution_count": 5,
   "id": "0d4067cd",
   "metadata": {},
   "outputs": [],
   "source": [
    "from torchvision import transforms "
   ]
  },
  {
   "cell_type": "markdown",
   "id": "7bdf4057",
   "metadata": {},
   "source": [
    "https://matplotlib.org/stable/gallery/color/colormap_reference.html"
   ]
  },
  {
   "cell_type": "code",
   "execution_count": 76,
   "id": "6d771206",
   "metadata": {},
   "outputs": [],
   "source": [
    "def displayImage(image, transform=transforms.ToTensor(), cmap='gray'):\n",
    "    figure = plt.figure(figsize=(4,4))\n",
    "    plt.title(labels_map[image[1]])\n",
    "    plt.axis(\"off\")\n",
    "    img = transform(image[0]).squeeze()\n",
    "    plt.imshow(img, cmap=cmap)\n",
    "    plt.show()\n",
    "\n",
    "def displayRandomImage(batch, cmap='gray'):\n",
    "    rand_index = torch.randint(len(batch), size=(1,1)).item()\n",
    "    displayImage(batch[rand_index], cmap)\n",
    "    "
   ]
  },
  {
   "cell_type": "code",
   "execution_count": 40,
   "id": "4ffb4791",
   "metadata": {},
   "outputs": [
    {
     "name": "stdout",
     "output_type": "stream",
     "text": [
      "<class 'PIL.Image.Image'>\n",
      "<class 'torch.Tensor'>\n"
     ]
    }
   ],
   "source": [
    "# without transform:\n",
    "data = datasets.FashionMNIST(\n",
    "    root='data',\n",
    "    train=True,\n",
    "    download=True,\n",
    ")\n",
    "\n",
    "print(type(data[0][0]))\n",
    "print(type(transforms.ToTensor()(data[0][0])))"
   ]
  },
  {
   "cell_type": "markdown",
   "id": "77b62569",
   "metadata": {},
   "source": [
    "*Note that the input is itself a callable. Create ToTensor() and then call that on the data*"
   ]
  },
  {
   "cell_type": "code",
   "execution_count": 41,
   "id": "cd4ce192",
   "metadata": {},
   "outputs": [
    {
     "data": {
      "image/png": "[encoded data removed]",
      "text/plain": [
       "<Figure size 288x288 with 1 Axes>"
      ]
     },
     "metadata": {
      "needs_background": "light"
     },
     "output_type": "display_data"
    },
    {
     "data": {
      "image/png": "[encoded data removed]",
      "text/plain": [
       "<Figure size 288x288 with 1 Axes>"
      ]
     },
     "metadata": {
      "needs_background": "light"
     },
     "output_type": "display_data"
    },
    {
     "data": {
      "image/png": "[encoded data removed]",
      "text/plain": [
       "<Figure size 288x288 with 1 Axes>"
      ]
     },
     "metadata": {
      "needs_background": "light"
     },
     "output_type": "display_data"
    }
   ],
   "source": [
    "deg, shear = 100, 0\n",
    "t = lambda d,s : transforms.Compose([transforms.RandomAffine(degrees=d, shear=s), transforms.ToTensor()])\n",
    "displayImage(data[0])\n",
    "displayImage(data[0], t(deg, shear))\n",
    "displayImage(data[0], t(24, 50))"
   ]
  },
  {
   "cell_type": "markdown",
   "id": "4fa52a70",
   "metadata": {},
   "source": [
    "$\\text{All datasets have transform and target_transform parameters to modify features and labels}$"
   ]
  },
  {
   "cell_type": "markdown",
   "id": "d7214642",
   "metadata": {},
   "source": [
    "### User Defined Lambda Transformations"
   ]
  },
  {
   "cell_type": "code",
   "execution_count": 11,
   "id": "3b93507a",
   "metadata": {},
   "outputs": [],
   "source": [
    "one_hot = transforms.Lambda(lambda y: torch.zeros(10, dtype=torch.float).scatter_(0,torch.tensor(y),value=1))"
   ]
  },
  {
   "cell_type": "code",
   "execution_count": 12,
   "id": "015bf530",
   "metadata": {},
   "outputs": [
    {
     "data": {
      "text/plain": [
       "tensor([0., 1., 0., 0., 0., 0., 0., 0., 0., 0.])"
      ]
     },
     "execution_count": 12,
     "metadata": {},
     "output_type": "execute_result"
    }
   ],
   "source": [
    "one_hot(1)"
   ]
  },
  {
   "cell_type": "code",
   "execution_count": 13,
   "id": "9e79110a",
   "metadata": {},
   "outputs": [],
   "source": [
    "training_data = datasets.FashionMNIST(\n",
    "    root='data',\n",
    "    train=True,\n",
    "    download=True,\n",
    "    transform=transforms.ToTensor(),\n",
    "    target_transform = one_hot\n",
    ")\n",
    "\n",
    "test_data = datasets.FashionMNIST(\n",
    "    root='data',\n",
    "    train=False,\n",
    "    download=True,\n",
    "    transform=transforms.ToTensor(),\n",
    "    target_transform = one_hot\n",
    ")\n",
    "\n"
   ]
  },
  {
   "cell_type": "markdown",
   "id": "bf0ae0b3",
   "metadata": {},
   "source": [
    "### Can define custom datasets that take in any file"
   ]
  },
  {
   "cell_type": "code",
   "execution_count": 9,
   "id": "4abeaff1",
   "metadata": {},
   "outputs": [],
   "source": [
    "from torch.utils.data import Dataset\n",
    "import os\n",
    "import torchvision\n",
    "def CustomImageDataset(Dataset):\n",
    "    def __init__(self, annotations_file, img_dir, transform=None, target_transform=None):\n",
    "        # constructor, run when instantiating object\n",
    "        #expect annotations file to be csv of form image.jpg, label ...\n",
    "        \n",
    "        self.img_labels = pd.read_csv(annotations_file)\n",
    "        self.img_dir = img_dir\n",
    "        self.transform = transform\n",
    "        self.target_transform = target_transform\n",
    "        \n",
    "    def __len__(self):\n",
    "        return(len(self.img_labels))\n",
    "\n",
    "    def __getitem__(self, idx):\n",
    "        img_path = os.path.join(self.img_dir, self.img_labels.iloc[idx,0])\n",
    "        image = torchvision.io.read_image(img_path) # turns image into tensor\n",
    "        label = self.img_labels.iloc[idx,1]\n",
    "        if self.transform:\n",
    "            image = self.transform(image)\n",
    "        if self.target_transform:\n",
    "            self.target_transform(label)\n",
    "        return(image, label)"
   ]
  },
  {
   "cell_type": "markdown",
   "id": "987dfd74",
   "metadata": {},
   "source": [
    "## Dataloaders- iterable wrapper for batches\n",
    "\n",
    "torch.utils.data.DataLoader"
   ]
  },
  {
   "cell_type": "code",
   "execution_count": 14,
   "id": "14db3779",
   "metadata": {},
   "outputs": [],
   "source": [
    "from torch.utils.data import DataLoader"
   ]
  },
  {
   "cell_type": "code",
   "execution_count": 15,
   "id": "c7e68929",
   "metadata": {},
   "outputs": [],
   "source": [
    "train_dataloader = DataLoader(training_data, batch_size=64, shuffle=True)\n",
    "test_dataloader = DataLoader(test_data)\n",
    "\n",
    "# Since we enabled shuffle, after each epoch, the data is shuffled into new batches"
   ]
  },
  {
   "cell_type": "code",
   "execution_count": 16,
   "id": "32aab85c",
   "metadata": {},
   "outputs": [
    {
     "name": "stdout",
     "output_type": "stream",
     "text": [
      "CPU times: user 74.5 ms, sys: 10.8 ms, total: 85.3 ms\n",
      "Wall time: 30.4 ms\n"
     ]
    }
   ],
   "source": [
    "%%time\n",
    "train_features, train_labels = next(iter(train_dataloader))"
   ]
  },
  {
   "cell_type": "code",
   "execution_count": 48,
   "id": "1673088a",
   "metadata": {},
   "outputs": [
    {
     "name": "stdout",
     "output_type": "stream",
     "text": [
      "Feature batch shape: torch.Size([64, 1, 28, 28])\n",
      "Labels batch shape: torch.Size([64, 10])\n"
     ]
    },
    {
     "data": {
      "image/png": "[encoded data removed]",
      "text/plain": [
       "<Figure size 432x288 with 1 Axes>"
      ]
     },
     "metadata": {
      "needs_background": "light"
     },
     "output_type": "display_data"
    },
    {
     "ename": "ValueError",
     "evalue": "only one element tensors can be converted to Python scalars",
     "output_type": "error",
     "traceback": [
      "\u001b[0;31m---------------------------------------------------------------------------\u001b[0m",
      "\u001b[0;31mValueError\u001b[0m                                Traceback (most recent call last)",
      "\u001b[0;32m/var/folders/lc/mjy2_vc10zd7k8yny4sjghbr0000gn/T/ipykernel_3771/212000871.py\u001b[0m in \u001b[0;36m<module>\u001b[0;34m\u001b[0m\n\u001b[1;32m      5\u001b[0m \u001b[0mplt\u001b[0m\u001b[0;34m.\u001b[0m\u001b[0mimshow\u001b[0m\u001b[0;34m(\u001b[0m\u001b[0mimg\u001b[0m\u001b[0;34m,\u001b[0m \u001b[0mcmap\u001b[0m\u001b[0;34m=\u001b[0m\u001b[0;34m'gray'\u001b[0m\u001b[0;34m)\u001b[0m\u001b[0;34m\u001b[0m\u001b[0;34m\u001b[0m\u001b[0m\n\u001b[1;32m      6\u001b[0m \u001b[0mplt\u001b[0m\u001b[0;34m.\u001b[0m\u001b[0mshow\u001b[0m\u001b[0;34m(\u001b[0m\u001b[0;34m)\u001b[0m\u001b[0;34m\u001b[0m\u001b[0;34m\u001b[0m\u001b[0m\n\u001b[0;32m----> 7\u001b[0;31m \u001b[0mprint\u001b[0m\u001b[0;34m(\u001b[0m\u001b[0;34mf\"Label: {train_labels[0]}\"\u001b[0m\u001b[0;34m,\u001b[0m \u001b[0mlabels_map\u001b[0m\u001b[0;34m[\u001b[0m\u001b[0mtrain_labels\u001b[0m\u001b[0;34m[\u001b[0m\u001b[0;36m0\u001b[0m\u001b[0;34m]\u001b[0m\u001b[0;34m.\u001b[0m\u001b[0mitem\u001b[0m\u001b[0;34m(\u001b[0m\u001b[0;34m)\u001b[0m\u001b[0;34m]\u001b[0m\u001b[0;34m)\u001b[0m\u001b[0;34m\u001b[0m\u001b[0;34m\u001b[0m\u001b[0m\n\u001b[0m",
      "\u001b[0;31mValueError\u001b[0m: only one element tensors can be converted to Python scalars"
     ]
    }
   ],
   "source": [
    "train_features, train_labels = next(iter(train_dataloader))\n",
    "print(f\"Feature batch shape: {train_features.size()}\")\n",
    "print(f\"Labels batch shape: {train_labels.size()}\")\n",
    "img = train_features[0].squeeze()\n",
    "plt.imshow(img, cmap='gray')\n",
    "plt.show()\n",
    "print(f\"Label: {train_labels[0]}\", labels_map[train_labels[0].item()])"
   ]
  },
  {
   "cell_type": "code",
   "execution_count": null,
   "id": "c45ab1fa",
   "metadata": {},
   "outputs": [],
   "source": []
  },
  {
   "cell_type": "code",
   "execution_count": null,
   "id": "e04006bf",
   "metadata": {},
   "outputs": [],
   "source": []
  },
  {
   "cell_type": "markdown",
   "id": "7cf5f56e",
   "metadata": {},
   "source": [
    "# Building Models- torch.nn and nn.Module\n",
    "\n",
    "https://pytorch.org/docs/stable/nn.html\n",
    "\n",
    "https://pytorch.org/docs/stable/generated/torch.nn.Module.html\n",
    "\n",
    "https://pytorch.org/docs/stable/nn.functional.html"
   ]
  },
  {
   "cell_type": "code",
   "execution_count": 5,
   "id": "89cba2c7",
   "metadata": {},
   "outputs": [],
   "source": [
    "import os\n",
    "import torch\n",
    "import torch.nn as nn\n",
    "from torchvision import transforms, datasets\n",
    "from torch.utils.data import DataLoader\n",
    "device = \"cuda\" if torch.cuda.is_available() else \"cpu\""
   ]
  },
  {
   "cell_type": "code",
   "execution_count": 59,
   "id": "e41c7ef4",
   "metadata": {},
   "outputs": [],
   "source": [
    "training_data = datasets.FashionMNIST(\n",
    "    root=\"data\",\n",
    "    train=True,\n",
    "    download=True,\n",
    "    transform=transforms.ToTensor(),\n",
    "    #target_transform = transforms.Lambda(lambda y: torch.zeros(10, dtype=torch.float).scatter_(0,torch.tensor(y),value=1))\n",
    ")\n",
    "\n",
    "test_data = datasets.FashionMNIST(\n",
    "    root=\"data\",\n",
    "    train=False,\n",
    "    download=True,\n",
    "    transform=transforms.ToTensor(),\n",
    "    #target_transform = transforms.Lambda(lambda y: torch.zeros(10, dtype=torch.float).scatter_(0,torch.tensor(y),value=1))\n",
    ")\n",
    "\n",
    "training_dataloader = DataLoader(training_data, batch_size=64)\n",
    "testing_dataloader = DataLoader(test_data, batch_size=64)\n"
   ]
  },
  {
   "cell_type": "code",
   "execution_count": 4,
   "id": "95bb3aea-1771-4e97-b6e0-8f577cd3c505",
   "metadata": {},
   "outputs": [
    {
     "ename": "NameError",
     "evalue": "name 'nn' is not defined",
     "output_type": "error",
     "traceback": [
      "\u001b[0;31m---------------------------------------------------------------------------\u001b[0m",
      "\u001b[0;31mNameError\u001b[0m                                 Traceback (most recent call last)",
      "Cell \u001b[0;32mIn[4], line 1\u001b[0m\n\u001b[0;32m----> 1\u001b[0m \u001b[38;5;28;01mclass\u001b[39;00m \u001b[38;5;21;01mToyModel\u001b[39;00m(\u001b[43mnn\u001b[49m\u001b[38;5;241m.\u001b[39mModule):\n\u001b[1;32m      2\u001b[0m     \u001b[38;5;28;01mdef\u001b[39;00m \u001b[38;5;21m__init__\u001b[39m(\u001b[38;5;28mself\u001b[39m):\n\u001b[1;32m      3\u001b[0m         \u001b[38;5;28msuper\u001b[39m()\u001b[38;5;241m.\u001b[39m\u001b[38;5;21m__init__\u001b[39m()\n",
      "\u001b[0;31mNameError\u001b[0m: name 'nn' is not defined"
     ]
    }
   ],
   "source": [
    "class ToyModel(nn.Module):\n",
    "    def __init__(self):\n",
    "        super().__init__()\n",
    "    def forward(x):\n",
    "        # forward function defines the computation DAG, dictates what autograd tracks\n",
    "        # when we call backward(), weights for operations NOT in forward() are not updated\n",
    "        # thus, any helper functions must be included in forward and during training need to do model()\n",
    "        pass"
   ]
  },
  {
   "cell_type": "code",
   "execution_count": 3,
   "id": "5d97be87",
   "metadata": {},
   "outputs": [],
   "source": [
    "class NeuralNetwork(nn.Module):\n",
    "    def __init__(self):\n",
    "        super(NeuralNetwork, self).__init__()\n",
    "        self.flatten = nn.Flatten()\n",
    "        \n",
    "        # Sequential is an ordered container of modules. Data passes through in defined order        \n",
    "        self.linear_relu_stack = nn.Sequential(\n",
    "            nn.Linear(in_features=2, out_features=512),\n",
    "            nn.ReLU(),\n",
    "            nn.Linear(512, 512),\n",
    "            nn.ReLU(),\n",
    "            nn.Linear(512, 10),\n",
    "        )\n",
    "    def forward(self, x):\n",
    "        logits = self.linear_relu_stack(self.flatten(x))\n",
    "        return logits\n"
   ]
  },
  {
   "cell_type": "code",
   "execution_count": 4,
   "id": "a340e497",
   "metadata": {},
   "outputs": [
    {
     "name": "stdout",
     "output_type": "stream",
     "text": [
      "NeuralNetwork(\n",
      "  (flatten): Flatten(start_dim=1, end_dim=-1)\n",
      "  (linear_relu_stack): Sequential(\n",
      "    (0): Linear(in_features=784, out_features=512, bias=True)\n",
      "    (1): ReLU()\n",
      "    (2): Linear(in_features=512, out_features=512, bias=True)\n",
      "    (3): ReLU()\n",
      "    (4): Linear(in_features=512, out_features=10, bias=True)\n",
      "  )\n",
      ")\n"
     ]
    }
   ],
   "source": [
    "model = NeuralNetwork().to(device)\n",
    "print(model)"
   ]
  },
  {
   "cell_type": "code",
   "execution_count": 5,
   "id": "771c5a3a",
   "metadata": {},
   "outputs": [
    {
     "data": {
      "text/plain": [
       "tensor([[ 0.0730, -0.0172, -0.0086,  0.0491, -0.0672,  0.0596,  0.1117, -0.0014,\n",
       "         -0.0435,  0.1060]], grad_fn=<AddmmBackward0>)"
      ]
     },
     "execution_count": 5,
     "metadata": {},
     "output_type": "execute_result"
    }
   ],
   "source": [
    "X = torch.rand(1,28,28,device=device)\n",
    "logits = model(X)\n",
    "logits"
   ]
  },
  {
   "cell_type": "code",
   "execution_count": 10,
   "id": "91bd6439",
   "metadata": {},
   "outputs": [
    {
     "name": "stdout",
     "output_type": "stream",
     "text": [
      "torch.Size([1, 512]) torch.Size([1, 512])\n",
      "tensor([[ 7.4211e-01,  1.0066e-01, -1.2299e-01,  5.0884e-01, -5.4553e-01,\n",
      "         -3.9699e-01,  3.6414e-03,  2.0253e-01,  2.2906e-01,  6.7656e-04,\n",
      "          2.3477e-01, -2.1259e-01, -2.1517e-01,  2.8969e-01, -1.3611e-01,\n",
      "         -3.0110e-01,  3.0337e-02, -4.2623e-01,  4.1202e-01, -3.4600e-01,\n",
      "          1.7352e-01, -9.0075e-02,  3.8873e-01, -3.5193e-01,  4.8800e-02,\n",
      "         -1.7110e-03, -3.1403e-01, -9.8036e-02, -3.8368e-01,  7.2706e-02,\n",
      "          1.9573e-01,  3.7664e-01,  3.5651e-01, -1.0866e-01, -2.5642e-01,\n",
      "          1.6068e-01,  5.5420e-01,  3.7279e-01, -4.6752e-01, -2.2059e-01,\n",
      "          1.4836e-01,  6.4644e-01, -5.2557e-01, -1.8545e-01, -9.5784e-02,\n",
      "          4.5407e-01,  3.1350e-01,  1.8782e-01, -1.7621e-01, -1.5706e-01,\n",
      "         -4.1373e-01, -6.2536e-02, -1.2042e-01, -2.1667e-01, -5.1365e-01,\n",
      "          4.2165e-02,  1.4034e-01,  5.4529e-01, -1.2014e-01,  4.4234e-01,\n",
      "          7.1328e-02,  3.2284e-02,  1.4604e-01, -1.6352e-01,  3.4950e-01,\n",
      "          7.0113e-02,  6.4310e-01,  3.4936e-01,  1.0587e-01, -4.0746e-01,\n",
      "         -2.6456e-02,  1.2557e-01, -6.3577e-01,  1.0114e-01,  8.9805e-02,\n",
      "          1.1020e-01, -7.9493e-02, -3.0500e-01,  4.1530e-01,  5.1095e-01,\n",
      "          1.0914e+00,  3.8932e-01, -1.0381e-01, -2.4017e-01,  1.7172e-02,\n",
      "         -4.2386e-01,  1.3922e-01, -1.2838e-01,  4.1833e-01, -1.5104e-01,\n",
      "          4.6216e-02, -6.2887e-01,  5.7055e-03, -1.0580e-01, -7.0952e-02,\n",
      "         -7.7576e-02,  8.4192e-01, -1.9269e-01, -8.4701e-02, -4.1512e-01,\n",
      "         -4.5082e-01, -2.7843e-01,  1.0520e+00,  4.2749e-01,  9.9236e-02,\n",
      "          2.0274e-01,  4.7356e-02,  3.3677e-01, -2.7111e-01,  9.3018e-01,\n",
      "         -2.5519e-01,  4.1795e-01, -2.1564e-01,  1.5503e-01,  6.3784e-02,\n",
      "         -5.2054e-02,  3.0963e-01, -5.0425e-01, -2.4610e-01, -2.7387e-01,\n",
      "         -1.9830e-01, -2.4528e-01, -4.7580e-01, -2.1379e-01,  2.5548e-01,\n",
      "          4.0864e-01,  2.1697e-01, -2.3409e-01, -1.2314e-02,  5.4375e-02,\n",
      "          2.6999e-01, -4.3310e-02,  2.6892e-01,  9.2113e-02, -2.2843e-02,\n",
      "          8.7285e-01, -1.3357e-02,  5.0516e-02,  4.6558e-01, -7.9133e-01,\n",
      "         -2.2306e-01, -1.6571e-01, -2.1085e-01,  6.9639e-02, -2.9648e-01,\n",
      "          2.6449e-01,  2.5649e-01,  4.8158e-01, -2.1807e-01, -2.6632e-01,\n",
      "         -5.0001e-01, -7.2192e-02, -4.8395e-01,  2.5205e-01,  5.4819e-01,\n",
      "         -1.3978e-01, -3.6534e-02, -4.2552e-01,  2.4423e-01, -1.0432e-01,\n",
      "          1.8214e-02, -1.0099e+00, -8.2035e-01,  4.7150e-01, -2.5078e-01,\n",
      "          1.7600e-01, -1.0277e-01, -1.9332e-01,  2.3865e-01,  2.8487e-01,\n",
      "         -6.0704e-01,  2.2329e-01,  4.3477e-01,  7.4930e-02, -9.8954e-02,\n",
      "          2.4942e-01, -9.6268e-01,  1.5827e-01,  3.8564e-01,  4.8361e-01,\n",
      "          1.0201e-01,  2.0741e-01,  5.3645e-02, -5.6597e-01,  1.6426e-01,\n",
      "          2.1356e-01, -3.3765e-01,  7.3739e-01,  2.8919e-01, -7.9089e-03,\n",
      "          3.0565e-01,  2.0967e-01,  6.5496e-02, -9.1590e-02,  5.8675e-01,\n",
      "         -4.4157e-01, -3.0285e-01, -1.2755e-01,  1.3087e-01,  1.8565e-01,\n",
      "         -4.2465e-01,  5.5562e-01, -3.5861e-01, -2.9650e-01,  2.7723e-01,\n",
      "          7.0245e-02, -6.2702e-01,  1.5208e-01,  1.7626e-01, -1.5274e-01,\n",
      "          1.2774e-01, -3.1971e-01, -2.2365e-01, -1.9119e-01, -4.2125e-01,\n",
      "         -2.3099e-01, -7.0199e-02,  2.5440e-01, -2.2544e-01,  3.0003e-01,\n",
      "         -4.7679e-02, -6.0571e-02, -5.9700e-02, -2.4763e-02, -7.6160e-02,\n",
      "         -2.7797e-01, -2.7280e-03, -3.6747e-01, -1.7643e-01, -2.6736e-01,\n",
      "          1.2369e-01,  6.3905e-01, -1.5020e-01,  4.7788e-01,  2.4366e-01,\n",
      "          1.2168e-01,  1.0492e-02, -2.4786e-01, -2.6686e-01,  1.4828e-01,\n",
      "         -2.1627e-02, -1.8952e-01, -2.9674e-01, -8.5696e-02, -2.1042e-01,\n",
      "          2.0245e-01,  8.4187e-02, -5.4401e-02,  5.0088e-01,  7.2175e-01,\n",
      "          2.1624e-01,  5.5544e-02,  4.0396e-01,  2.5112e-01, -1.6574e-01,\n",
      "         -7.8656e-02, -2.3608e-01,  1.3461e-01,  2.0877e-01, -3.3156e-01,\n",
      "         -5.7740e-01,  6.7194e-01,  2.6601e-01, -6.7835e-02, -3.7543e-01,\n",
      "         -6.8549e-02,  3.0515e-01, -5.0696e-01, -1.7111e-01, -4.6297e-01,\n",
      "          8.2490e-02,  3.8921e-01,  6.3906e-01, -7.3185e-02,  3.1237e-02,\n",
      "         -2.4839e-01,  2.5262e-01,  2.1746e-01,  2.6956e-02,  4.9304e-01,\n",
      "         -2.2172e-01,  2.9875e-01,  2.2582e-01, -9.7066e-03,  1.1023e-01,\n",
      "          1.6172e-01,  3.9817e-01, -5.9599e-01,  2.1455e-01, -3.8791e-02,\n",
      "          5.9736e-02,  1.9728e-02, -5.4859e-03, -6.0296e-02,  9.9058e-02,\n",
      "         -3.5010e-01, -9.1087e-02, -1.9671e-01,  4.8391e-01,  3.0069e-01,\n",
      "          1.3870e-03,  1.7341e-01,  1.4488e-01, -2.0481e-01, -4.6711e-01,\n",
      "          3.5514e-01,  1.4256e-01, -2.0248e-01,  3.2443e-01, -6.5225e-01,\n",
      "          7.3699e-01, -2.8919e-01,  6.5510e-01, -3.4133e-01, -2.9953e-01,\n",
      "         -2.4614e-01, -7.5546e-02,  5.7941e-01, -5.8128e-02, -1.9162e-01,\n",
      "         -4.4625e-01, -1.7664e-01, -4.3980e-02, -1.2023e-01,  2.3482e-01,\n",
      "         -8.5839e-02,  1.3745e-01, -1.5568e-01, -4.4895e-02, -2.0417e-01,\n",
      "          3.1579e-01,  7.8020e-02, -4.9943e-02,  5.4334e-01,  5.9380e-02,\n",
      "         -3.0324e-01, -3.0114e-01, -2.3136e-01, -3.0912e-02,  1.4263e-01,\n",
      "         -4.5616e-01, -5.5364e-01,  1.4931e-01, -2.0364e-01, -4.4016e-02,\n",
      "         -2.2532e-01,  7.4519e-01, -5.7479e-01, -2.7731e-02, -1.5229e-01,\n",
      "         -2.4773e-01, -8.1180e-03,  2.3611e-01, -9.4086e-02, -3.6135e-01,\n",
      "         -5.2186e-02,  2.0551e-02,  9.1368e-02, -3.9763e-01,  6.0912e-01,\n",
      "         -2.0572e-01, -1.6268e-01,  3.6097e-01, -2.0900e-01,  2.4908e-01,\n",
      "         -2.1380e-01,  4.8565e-01, -4.2511e-02,  6.1673e-02, -2.4583e-01,\n",
      "         -1.2345e-01,  3.3353e-01,  1.0446e-01, -2.1460e-01, -2.8706e-01,\n",
      "         -4.1578e-01,  7.8281e-02, -2.5256e-01, -3.0249e-01, -5.2616e-01,\n",
      "          6.0572e-01,  3.2733e-01, -3.2834e-02,  9.3012e-02, -8.1322e-01,\n",
      "          6.1507e-02,  6.0297e-01, -1.5066e-01,  2.3737e-01, -2.6413e-02,\n",
      "          1.2985e-01, -8.6068e-02,  2.4484e-02, -2.2400e-01,  2.0567e-02,\n",
      "          4.4797e-02, -1.3419e-01, -1.3668e-02,  3.2025e-01, -1.4287e-01,\n",
      "         -2.7907e-01, -7.7349e-02, -6.6194e-03,  2.3649e-01, -2.9799e-01,\n",
      "          3.9349e-01, -5.1462e-01,  2.9746e-01, -8.6230e-02,  4.9328e-01,\n",
      "         -2.4493e-01, -3.5781e-01, -4.3562e-01,  9.0426e-02, -8.5601e-02,\n",
      "          2.4580e-01,  9.6325e-02, -4.1749e-02, -2.7077e-01,  5.1516e-01,\n",
      "         -8.1316e-01, -1.4177e-01,  1.1293e-01, -2.0438e-01,  2.4914e-01,\n",
      "          4.9656e-02, -1.6751e-01,  1.1413e-03,  3.5911e-01, -1.5531e-01,\n",
      "         -1.6668e-01,  1.9634e-01,  1.1677e-01,  9.2016e-02, -2.1161e-01,\n",
      "         -9.7441e-02, -3.6405e-01,  4.0661e-01,  4.0515e-01,  3.2806e-01,\n",
      "         -2.0775e-01,  5.1232e-01,  3.4883e-01, -6.6284e-01,  4.0596e-01,\n",
      "         -4.6159e-02, -1.3447e-01, -1.7613e-01, -2.9749e-01, -3.5541e-01,\n",
      "          3.3753e-02,  1.0021e-01,  6.3350e-02,  1.0468e-01, -2.5770e-01,\n",
      "         -2.9293e-01, -5.0832e-01, -2.9116e-01,  3.8478e-01, -5.6876e-01,\n",
      "          6.3459e-01,  3.6154e-01,  1.5121e-01, -5.8917e-01, -1.2329e-01,\n",
      "         -7.0829e-02, -4.4885e-01, -1.1293e-02,  1.9212e-01, -8.6882e-02,\n",
      "          4.4242e-01, -3.4222e-01, -3.0976e-01,  2.2179e-01, -4.8786e-02,\n",
      "         -1.7490e-01,  1.6364e-01,  1.6377e-01, -3.5035e-01, -1.9470e-01,\n",
      "          3.2826e-01, -7.3603e-02, -1.5067e-01,  7.1253e-01,  2.6616e-01,\n",
      "         -3.0547e-01, -5.5339e-01, -1.6503e-01,  3.9233e-01, -9.0522e-01,\n",
      "         -3.2526e-01, -9.4861e-02,  1.3670e-01,  1.5867e-01,  7.6854e-01,\n",
      "          1.1007e-01,  8.4152e-02, -1.0056e-02, -3.5667e-01,  4.6050e-01,\n",
      "         -3.7182e-01, -4.9221e-01, -1.9605e-01,  1.5110e-02,  5.0631e-01,\n",
      "         -3.6549e-02, -1.1984e-01, -2.8646e-01,  1.0884e-01,  3.9725e-01,\n",
      "         -4.1095e-01,  3.7650e-03]], grad_fn=<AddmmBackward0>) \n",
      "\n",
      "\n",
      "\n",
      "tensor([[7.4211e-01, 1.0066e-01, 0.0000e+00, 5.0884e-01, 0.0000e+00, 0.0000e+00,\n",
      "         3.6414e-03, 2.0253e-01, 2.2906e-01, 6.7656e-04, 2.3477e-01, 0.0000e+00,\n",
      "         0.0000e+00, 2.8969e-01, 0.0000e+00, 0.0000e+00, 3.0337e-02, 0.0000e+00,\n",
      "         4.1202e-01, 0.0000e+00, 1.7352e-01, 0.0000e+00, 3.8873e-01, 0.0000e+00,\n",
      "         4.8800e-02, 0.0000e+00, 0.0000e+00, 0.0000e+00, 0.0000e+00, 7.2706e-02,\n",
      "         1.9573e-01, 3.7664e-01, 3.5651e-01, 0.0000e+00, 0.0000e+00, 1.6068e-01,\n",
      "         5.5420e-01, 3.7279e-01, 0.0000e+00, 0.0000e+00, 1.4836e-01, 6.4644e-01,\n",
      "         0.0000e+00, 0.0000e+00, 0.0000e+00, 4.5407e-01, 3.1350e-01, 1.8782e-01,\n",
      "         0.0000e+00, 0.0000e+00, 0.0000e+00, 0.0000e+00, 0.0000e+00, 0.0000e+00,\n",
      "         0.0000e+00, 4.2165e-02, 1.4034e-01, 5.4529e-01, 0.0000e+00, 4.4234e-01,\n",
      "         7.1328e-02, 3.2284e-02, 1.4604e-01, 0.0000e+00, 3.4950e-01, 7.0113e-02,\n",
      "         6.4310e-01, 3.4936e-01, 1.0587e-01, 0.0000e+00, 0.0000e+00, 1.2557e-01,\n",
      "         0.0000e+00, 1.0114e-01, 8.9805e-02, 1.1020e-01, 0.0000e+00, 0.0000e+00,\n",
      "         4.1530e-01, 5.1095e-01, 1.0914e+00, 3.8932e-01, 0.0000e+00, 0.0000e+00,\n",
      "         1.7172e-02, 0.0000e+00, 1.3922e-01, 0.0000e+00, 4.1833e-01, 0.0000e+00,\n",
      "         4.6216e-02, 0.0000e+00, 5.7055e-03, 0.0000e+00, 0.0000e+00, 0.0000e+00,\n",
      "         8.4192e-01, 0.0000e+00, 0.0000e+00, 0.0000e+00, 0.0000e+00, 0.0000e+00,\n",
      "         1.0520e+00, 4.2749e-01, 9.9236e-02, 2.0274e-01, 4.7356e-02, 3.3677e-01,\n",
      "         0.0000e+00, 9.3018e-01, 0.0000e+00, 4.1795e-01, 0.0000e+00, 1.5503e-01,\n",
      "         6.3784e-02, 0.0000e+00, 3.0963e-01, 0.0000e+00, 0.0000e+00, 0.0000e+00,\n",
      "         0.0000e+00, 0.0000e+00, 0.0000e+00, 0.0000e+00, 2.5548e-01, 4.0864e-01,\n",
      "         2.1697e-01, 0.0000e+00, 0.0000e+00, 5.4375e-02, 2.6999e-01, 0.0000e+00,\n",
      "         2.6892e-01, 9.2113e-02, 0.0000e+00, 8.7285e-01, 0.0000e+00, 5.0516e-02,\n",
      "         4.6558e-01, 0.0000e+00, 0.0000e+00, 0.0000e+00, 0.0000e+00, 6.9639e-02,\n",
      "         0.0000e+00, 2.6449e-01, 2.5649e-01, 4.8158e-01, 0.0000e+00, 0.0000e+00,\n",
      "         0.0000e+00, 0.0000e+00, 0.0000e+00, 2.5205e-01, 5.4819e-01, 0.0000e+00,\n",
      "         0.0000e+00, 0.0000e+00, 2.4423e-01, 0.0000e+00, 1.8214e-02, 0.0000e+00,\n",
      "         0.0000e+00, 4.7150e-01, 0.0000e+00, 1.7600e-01, 0.0000e+00, 0.0000e+00,\n",
      "         2.3865e-01, 2.8487e-01, 0.0000e+00, 2.2329e-01, 4.3477e-01, 7.4930e-02,\n",
      "         0.0000e+00, 2.4942e-01, 0.0000e+00, 1.5827e-01, 3.8564e-01, 4.8361e-01,\n",
      "         1.0201e-01, 2.0741e-01, 5.3645e-02, 0.0000e+00, 1.6426e-01, 2.1356e-01,\n",
      "         0.0000e+00, 7.3739e-01, 2.8919e-01, 0.0000e+00, 3.0565e-01, 2.0967e-01,\n",
      "         6.5496e-02, 0.0000e+00, 5.8675e-01, 0.0000e+00, 0.0000e+00, 0.0000e+00,\n",
      "         1.3087e-01, 1.8565e-01, 0.0000e+00, 5.5562e-01, 0.0000e+00, 0.0000e+00,\n",
      "         2.7723e-01, 7.0245e-02, 0.0000e+00, 1.5208e-01, 1.7626e-01, 0.0000e+00,\n",
      "         1.2774e-01, 0.0000e+00, 0.0000e+00, 0.0000e+00, 0.0000e+00, 0.0000e+00,\n",
      "         0.0000e+00, 2.5440e-01, 0.0000e+00, 3.0003e-01, 0.0000e+00, 0.0000e+00,\n",
      "         0.0000e+00, 0.0000e+00, 0.0000e+00, 0.0000e+00, 0.0000e+00, 0.0000e+00,\n",
      "         0.0000e+00, 0.0000e+00, 1.2369e-01, 6.3905e-01, 0.0000e+00, 4.7788e-01,\n",
      "         2.4366e-01, 1.2168e-01, 1.0492e-02, 0.0000e+00, 0.0000e+00, 1.4828e-01,\n",
      "         0.0000e+00, 0.0000e+00, 0.0000e+00, 0.0000e+00, 0.0000e+00, 2.0245e-01,\n",
      "         8.4187e-02, 0.0000e+00, 5.0088e-01, 7.2175e-01, 2.1624e-01, 5.5544e-02,\n",
      "         4.0396e-01, 2.5112e-01, 0.0000e+00, 0.0000e+00, 0.0000e+00, 1.3461e-01,\n",
      "         2.0877e-01, 0.0000e+00, 0.0000e+00, 6.7194e-01, 2.6601e-01, 0.0000e+00,\n",
      "         0.0000e+00, 0.0000e+00, 3.0515e-01, 0.0000e+00, 0.0000e+00, 0.0000e+00,\n",
      "         8.2490e-02, 3.8921e-01, 6.3906e-01, 0.0000e+00, 3.1237e-02, 0.0000e+00,\n",
      "         2.5262e-01, 2.1746e-01, 2.6956e-02, 4.9304e-01, 0.0000e+00, 2.9875e-01,\n",
      "         2.2582e-01, 0.0000e+00, 1.1023e-01, 1.6172e-01, 3.9817e-01, 0.0000e+00,\n",
      "         2.1455e-01, 0.0000e+00, 5.9736e-02, 1.9728e-02, 0.0000e+00, 0.0000e+00,\n",
      "         9.9058e-02, 0.0000e+00, 0.0000e+00, 0.0000e+00, 4.8391e-01, 3.0069e-01,\n",
      "         1.3870e-03, 1.7341e-01, 1.4488e-01, 0.0000e+00, 0.0000e+00, 3.5514e-01,\n",
      "         1.4256e-01, 0.0000e+00, 3.2443e-01, 0.0000e+00, 7.3699e-01, 0.0000e+00,\n",
      "         6.5510e-01, 0.0000e+00, 0.0000e+00, 0.0000e+00, 0.0000e+00, 5.7941e-01,\n",
      "         0.0000e+00, 0.0000e+00, 0.0000e+00, 0.0000e+00, 0.0000e+00, 0.0000e+00,\n",
      "         2.3482e-01, 0.0000e+00, 1.3745e-01, 0.0000e+00, 0.0000e+00, 0.0000e+00,\n",
      "         3.1579e-01, 7.8020e-02, 0.0000e+00, 5.4334e-01, 5.9380e-02, 0.0000e+00,\n",
      "         0.0000e+00, 0.0000e+00, 0.0000e+00, 1.4263e-01, 0.0000e+00, 0.0000e+00,\n",
      "         1.4931e-01, 0.0000e+00, 0.0000e+00, 0.0000e+00, 7.4519e-01, 0.0000e+00,\n",
      "         0.0000e+00, 0.0000e+00, 0.0000e+00, 0.0000e+00, 2.3611e-01, 0.0000e+00,\n",
      "         0.0000e+00, 0.0000e+00, 2.0551e-02, 9.1368e-02, 0.0000e+00, 6.0912e-01,\n",
      "         0.0000e+00, 0.0000e+00, 3.6097e-01, 0.0000e+00, 2.4908e-01, 0.0000e+00,\n",
      "         4.8565e-01, 0.0000e+00, 6.1673e-02, 0.0000e+00, 0.0000e+00, 3.3353e-01,\n",
      "         1.0446e-01, 0.0000e+00, 0.0000e+00, 0.0000e+00, 7.8281e-02, 0.0000e+00,\n",
      "         0.0000e+00, 0.0000e+00, 6.0572e-01, 3.2733e-01, 0.0000e+00, 9.3012e-02,\n",
      "         0.0000e+00, 6.1507e-02, 6.0297e-01, 0.0000e+00, 2.3737e-01, 0.0000e+00,\n",
      "         1.2985e-01, 0.0000e+00, 2.4484e-02, 0.0000e+00, 2.0567e-02, 4.4797e-02,\n",
      "         0.0000e+00, 0.0000e+00, 3.2025e-01, 0.0000e+00, 0.0000e+00, 0.0000e+00,\n",
      "         0.0000e+00, 2.3649e-01, 0.0000e+00, 3.9349e-01, 0.0000e+00, 2.9746e-01,\n",
      "         0.0000e+00, 4.9328e-01, 0.0000e+00, 0.0000e+00, 0.0000e+00, 9.0426e-02,\n",
      "         0.0000e+00, 2.4580e-01, 9.6325e-02, 0.0000e+00, 0.0000e+00, 5.1516e-01,\n",
      "         0.0000e+00, 0.0000e+00, 1.1293e-01, 0.0000e+00, 2.4914e-01, 4.9656e-02,\n",
      "         0.0000e+00, 1.1413e-03, 3.5911e-01, 0.0000e+00, 0.0000e+00, 1.9634e-01,\n",
      "         1.1677e-01, 9.2016e-02, 0.0000e+00, 0.0000e+00, 0.0000e+00, 4.0661e-01,\n",
      "         4.0515e-01, 3.2806e-01, 0.0000e+00, 5.1232e-01, 3.4883e-01, 0.0000e+00,\n",
      "         4.0596e-01, 0.0000e+00, 0.0000e+00, 0.0000e+00, 0.0000e+00, 0.0000e+00,\n",
      "         3.3753e-02, 1.0021e-01, 6.3350e-02, 1.0468e-01, 0.0000e+00, 0.0000e+00,\n",
      "         0.0000e+00, 0.0000e+00, 3.8478e-01, 0.0000e+00, 6.3459e-01, 3.6154e-01,\n",
      "         1.5121e-01, 0.0000e+00, 0.0000e+00, 0.0000e+00, 0.0000e+00, 0.0000e+00,\n",
      "         1.9212e-01, 0.0000e+00, 4.4242e-01, 0.0000e+00, 0.0000e+00, 2.2179e-01,\n",
      "         0.0000e+00, 0.0000e+00, 1.6364e-01, 1.6377e-01, 0.0000e+00, 0.0000e+00,\n",
      "         3.2826e-01, 0.0000e+00, 0.0000e+00, 7.1253e-01, 2.6616e-01, 0.0000e+00,\n",
      "         0.0000e+00, 0.0000e+00, 3.9233e-01, 0.0000e+00, 0.0000e+00, 0.0000e+00,\n",
      "         1.3670e-01, 1.5867e-01, 7.6854e-01, 1.1007e-01, 8.4152e-02, 0.0000e+00,\n",
      "         0.0000e+00, 4.6050e-01, 0.0000e+00, 0.0000e+00, 0.0000e+00, 1.5110e-02,\n",
      "         5.0631e-01, 0.0000e+00, 0.0000e+00, 0.0000e+00, 1.0884e-01, 3.9725e-01,\n",
      "         0.0000e+00, 3.7650e-03]], grad_fn=<ReluBackward0>)\n"
     ]
    }
   ],
   "source": [
    "a0 = nn.Flatten()(X)\n",
    "z1 = nn.Linear(in_features=28*28, out_features=512)(a0)\n",
    "a1 = nn.ReLU()(z1)\n",
    "print(z1.shape, a1.shape)"
   ]
  },
  {
   "cell_type": "code",
   "execution_count": 63,
   "id": "0530e641",
   "metadata": {},
   "outputs": [
    {
     "data": {
      "text/plain": [
       "tensor([[0.0905, 0.1003, 0.1012, 0.0894, 0.0979, 0.0906, 0.1061, 0.1114, 0.1031,\n",
       "         0.1096]], grad_fn=<SoftmaxBackward0>)"
      ]
     },
     "execution_count": 63,
     "metadata": {},
     "output_type": "execute_result"
    }
   ],
   "source": [
    "pred_probab = nn.Softmax(dim=1)(logits)\n",
    "pred_probab"
   ]
  },
  {
   "cell_type": "code",
   "execution_count": 64,
   "id": "ba2af5d2",
   "metadata": {},
   "outputs": [
    {
     "name": "stdout",
     "output_type": "stream",
     "text": [
      "Prediction: 7\n"
     ]
    }
   ],
   "source": [
    "y_pred = pred_probab.argmax(1)\n",
    "print(f\"Prediction: {y_pred.item()}\")"
   ]
  },
  {
   "cell_type": "markdown",
   "id": "90025d76",
   "metadata": {},
   "source": [
    "## Model Parameters"
   ]
  },
  {
   "cell_type": "code",
   "execution_count": 65,
   "id": "c70365e7",
   "metadata": {},
   "outputs": [
    {
     "name": "stdout",
     "output_type": "stream",
     "text": [
      "Model Structure: NeuralNetwork(\n",
      "  (flatten): Flatten(start_dim=1, end_dim=-1)\n",
      "  (linear_relu_stack): Sequential(\n",
      "    (0): Linear(in_features=784, out_features=512, bias=True)\n",
      "    (1): ReLU()\n",
      "    (2): Linear(in_features=512, out_features=512, bias=True)\n",
      "    (3): ReLU()\n",
      "    (4): Linear(in_features=512, out_features=10, bias=True)\n",
      "  )\n",
      ")\n",
      "\n",
      "\n",
      "Layer: linear_relu_stack.0.weight | Size: torch.Size([512, 784]) | Values: tensor([[ 0.0160, -0.0266,  0.0207,  ..., -0.0042, -0.0250, -0.0217],\n",
      "        [ 0.0211, -0.0091,  0.0136,  ...,  0.0216,  0.0223,  0.0053]],\n",
      "       grad_fn=<SliceBackward0>)\n",
      "\n",
      "Layer: linear_relu_stack.0.bias | Size: torch.Size([512]) | Values: tensor([-0.0090, -0.0030], grad_fn=<SliceBackward0>)\n",
      "\n",
      "Layer: linear_relu_stack.2.weight | Size: torch.Size([512, 512]) | Values: tensor([[ 0.0110, -0.0002, -0.0125,  ..., -0.0344,  0.0412, -0.0427],\n",
      "        [ 0.0039, -0.0202,  0.0035,  ..., -0.0040,  0.0033, -0.0334]],\n",
      "       grad_fn=<SliceBackward0>)\n",
      "\n",
      "Layer: linear_relu_stack.2.bias | Size: torch.Size([512]) | Values: tensor([-0.0113, -0.0058], grad_fn=<SliceBackward0>)\n",
      "\n",
      "Layer: linear_relu_stack.4.weight | Size: torch.Size([10, 512]) | Values: tensor([[ 0.0043, -0.0102,  0.0157,  ..., -0.0361,  0.0359,  0.0286],\n",
      "        [ 0.0047,  0.0015,  0.0207,  ...,  0.0229,  0.0008, -0.0279]],\n",
      "       grad_fn=<SliceBackward0>)\n",
      "\n",
      "Layer: linear_relu_stack.4.bias | Size: torch.Size([10]) | Values: tensor([-0.0037, -0.0075], grad_fn=<SliceBackward0>)\n",
      "\n"
     ]
    }
   ],
   "source": [
    "print(f\"Model Structure: {model}\\n\\n\")\n",
    "\n",
    "for name, params in model.named_parameters():\n",
    "    print(f\"Layer: {name} | Size: {params.size()} | Values: {params[:2]}\\n\")"
   ]
  },
  {
   "cell_type": "markdown",
   "id": "f4a73c0c",
   "metadata": {},
   "source": [
    "## Training and Backprop- Autograd returns"
   ]
  },
  {
   "cell_type": "code",
   "execution_count": 66,
   "id": "09fedf24",
   "metadata": {},
   "outputs": [],
   "source": [
    "# Hyperparameters\n",
    "learning_rate = 1e-3\n",
    "batch_size = 64\n",
    "epochs = 5"
   ]
  },
  {
   "cell_type": "markdown",
   "id": "ce7b7a3d",
   "metadata": {},
   "source": [
    "select loss function from https://pytorch.org/docs/stable/nn.html#loss-functions\n",
    "\n",
    "select optimizer from https://pytorch.org/docs/stable/optim.html"
   ]
  },
  {
   "cell_type": "code",
   "execution_count": 67,
   "id": "35149782",
   "metadata": {},
   "outputs": [],
   "source": [
    "loss_fn = nn.CrossEntropyLoss()\n",
    "optimizer = torch.optim.SGD(model.parameters(), lr=learning_rate)\n",
    "#optim2 = torch.optim.Adam([beta1, beta2], lr=0.0001)"
   ]
  },
  {
   "cell_type": "code",
   "execution_count": 68,
   "id": "28c92d6e",
   "metadata": {},
   "outputs": [],
   "source": [
    "def train_model(dataloader, model, loss_fn, optimizer):\n",
    "    size = len(dataloader.dataset)\n",
    "    \n",
    "    for batch, (X,y) in enumerate(dataloader):\n",
    "        \n",
    "        #calculations\n",
    "        prediction = model(X)\n",
    "        loss = loss_fn(prediction, y)\n",
    "        # backprop\n",
    "        optimizer.zero_grad()\n",
    "        loss.backward()\n",
    "        optimizer.step()\n",
    "        \n",
    "        if batch % 100 == 0:\n",
    "            loss, current = loss.item(), batch*len(X)\n",
    "            print(f\"loss: {loss:>6f} | {current:>5d}/{size:>5d}]\")\n",
    "\n",
    "def test_loop(dataloader, model, loss_fn):\n",
    "    size = len(dataloader.dataset)\n",
    "    num_batches = len(dataloader)\n",
    "    test_loss, correct = 0,0\n",
    "    \n",
    "    with torch.no_grad():\n",
    "        for X, y in dataloader:\n",
    "            pred = model(X)\n",
    "            test_loss += loss_fn(pred, y).item()\n",
    "            correct += (pred.argmax(1) == y).type(torch.float).sum().item()\n",
    "        test_loss /= num_batches\n",
    "        correct /= size\n",
    "        print(f\"Test Error: \\n Accuracy: {100*correct:>0.1f}%, Avg Loss: {test_loss:>8f}\\n\")\n",
    "        "
   ]
  },
  {
   "cell_type": "code",
   "execution_count": 69,
   "id": "11569c9f",
   "metadata": {},
   "outputs": [
    {
     "name": "stdout",
     "output_type": "stream",
     "text": [
      "Epoch number 1\n",
      "---------------------------------\n",
      "\n",
      "loss: 2.307522 |     0/60000]\n",
      "loss: 2.292364 |  6400/60000]\n",
      "loss: 2.269739 | 12800/60000]\n",
      "loss: 2.263754 | 19200/60000]\n",
      "loss: 2.242522 | 25600/60000]\n",
      "loss: 2.215466 | 32000/60000]\n",
      "loss: 2.217119 | 38400/60000]\n",
      "loss: 2.190886 | 44800/60000]\n",
      "loss: 2.192634 | 51200/60000]\n",
      "loss: 2.146128 | 57600/60000]\n",
      "Test Error: \n",
      " Accuracy: 44.9%, Avg Loss: 2.151504\n",
      "\n",
      "Epoch number 2\n",
      "---------------------------------\n",
      "\n",
      "loss: 2.169459 |     0/60000]\n",
      "loss: 2.159163 |  6400/60000]\n",
      "loss: 2.099143 | 12800/60000]\n",
      "loss: 2.118148 | 19200/60000]\n",
      "loss: 2.061283 | 25600/60000]\n",
      "loss: 1.999263 | 32000/60000]\n",
      "loss: 2.030011 | 38400/60000]\n",
      "loss: 1.955061 | 44800/60000]\n",
      "loss: 1.964041 | 51200/60000]\n",
      "loss: 1.884403 | 57600/60000]\n",
      "Test Error: \n",
      " Accuracy: 53.4%, Avg Loss: 1.891035\n",
      "\n",
      "Epoch number 3\n",
      "---------------------------------\n",
      "\n",
      "loss: 1.931642 |     0/60000]\n",
      "loss: 1.900127 |  6400/60000]\n",
      "loss: 1.785064 | 12800/60000]\n",
      "loss: 1.829164 | 19200/60000]\n",
      "loss: 1.707371 | 25600/60000]\n",
      "loss: 1.660126 | 32000/60000]\n",
      "loss: 1.686299 | 38400/60000]\n",
      "loss: 1.587245 | 44800/60000]\n",
      "loss: 1.614931 | 51200/60000]\n",
      "loss: 1.505906 | 57600/60000]\n",
      "Test Error: \n",
      " Accuracy: 58.3%, Avg Loss: 1.527943\n",
      "\n",
      "Epoch number 4\n",
      "---------------------------------\n",
      "\n",
      "loss: 1.602140 |     0/60000]\n",
      "loss: 1.563674 |  6400/60000]\n",
      "loss: 1.413462 | 12800/60000]\n",
      "loss: 1.490986 | 19200/60000]\n",
      "loss: 1.358720 | 25600/60000]\n",
      "loss: 1.357074 | 32000/60000]\n",
      "loss: 1.376238 | 38400/60000]\n",
      "loss: 1.298083 | 44800/60000]\n",
      "loss: 1.335434 | 51200/60000]\n",
      "loss: 1.237919 | 57600/60000]\n",
      "Test Error: \n",
      " Accuracy: 62.0%, Avg Loss: 1.263606\n",
      "\n",
      "Epoch number 5\n",
      "---------------------------------\n",
      "\n",
      "loss: 1.347692 |     0/60000]\n",
      "loss: 1.322380 |  6400/60000]\n",
      "loss: 1.157750 | 12800/60000]\n",
      "loss: 1.270048 | 19200/60000]\n",
      "loss: 1.131715 | 25600/60000]\n",
      "loss: 1.159357 | 32000/60000]\n",
      "loss: 1.184349 | 38400/60000]\n",
      "loss: 1.119432 | 44800/60000]\n",
      "loss: 1.159504 | 51200/60000]\n",
      "loss: 1.078903 | 57600/60000]\n",
      "Test Error: \n",
      " Accuracy: 64.1%, Avg Loss: 1.098609\n",
      "\n",
      "Epoch number 6\n",
      "---------------------------------\n",
      "\n",
      "loss: 1.177464 |     0/60000]\n",
      "loss: 1.168063 |  6400/60000]\n",
      "loss: 0.988883 | 12800/60000]\n",
      "loss: 1.129873 | 19200/60000]\n",
      "loss: 0.990350 | 25600/60000]\n",
      "loss: 1.024979 | 32000/60000]\n",
      "loss: 1.063892 | 38400/60000]\n",
      "loss: 1.004803 | 44800/60000]\n",
      "loss: 1.044011 | 51200/60000]\n",
      "loss: 0.976968 | 57600/60000]\n",
      "Test Error: \n",
      " Accuracy: 65.6%, Avg Loss: 0.991019\n",
      "\n",
      "Epoch number 7\n",
      "---------------------------------\n",
      "\n",
      "loss: 1.058232 |     0/60000]\n",
      "loss: 1.066658 |  6400/60000]\n",
      "loss: 0.872723 | 12800/60000]\n",
      "loss: 1.035691 | 19200/60000]\n",
      "loss: 0.901350 | 25600/60000]\n",
      "loss: 0.929644 | 32000/60000]\n",
      "loss: 0.984519 | 38400/60000]\n",
      "loss: 0.929620 | 44800/60000]\n",
      "loss: 0.963974 | 51200/60000]\n",
      "loss: 0.908243 | 57600/60000]\n",
      "Test Error: \n",
      " Accuracy: 67.0%, Avg Loss: 0.917456\n",
      "\n",
      "Epoch number 8\n",
      "---------------------------------\n",
      "\n",
      "loss: 0.969979 |     0/60000]\n",
      "loss: 0.995978 |  6400/60000]\n",
      "loss: 0.789425 | 12800/60000]\n",
      "loss: 0.969075 | 19200/60000]\n",
      "loss: 0.842279 | 25600/60000]\n",
      "loss: 0.859586 | 32000/60000]\n",
      "loss: 0.928736 | 38400/60000]\n",
      "loss: 0.878897 | 44800/60000]\n",
      "loss: 0.906292 | 51200/60000]\n",
      "loss: 0.858900 | 57600/60000]\n",
      "Test Error: \n",
      " Accuracy: 68.2%, Avg Loss: 0.864485\n",
      "\n",
      "Epoch number 9\n",
      "---------------------------------\n",
      "\n",
      "loss: 0.901671 |     0/60000]\n",
      "loss: 0.942954 |  6400/60000]\n",
      "loss: 0.727085 | 12800/60000]\n",
      "loss: 0.919808 | 19200/60000]\n",
      "loss: 0.800362 | 25600/60000]\n",
      "loss: 0.806725 | 32000/60000]\n",
      "loss: 0.886601 | 38400/60000]\n",
      "loss: 0.843302 | 44800/60000]\n",
      "loss: 0.863149 | 51200/60000]\n",
      "loss: 0.821520 | 57600/60000]\n",
      "Test Error: \n",
      " Accuracy: 69.3%, Avg Loss: 0.824410\n",
      "\n",
      "Epoch number 10\n",
      "---------------------------------\n",
      "\n",
      "loss: 0.846800 |     0/60000]\n",
      "loss: 0.900799 |  6400/60000]\n",
      "loss: 0.678606 | 12800/60000]\n",
      "loss: 0.881899 | 19200/60000]\n",
      "loss: 0.768740 | 25600/60000]\n",
      "loss: 0.765741 | 32000/60000]\n",
      "loss: 0.852556 | 38400/60000]\n",
      "loss: 0.816874 | 44800/60000]\n",
      "loss: 0.829476 | 51200/60000]\n",
      "loss: 0.791554 | 57600/60000]\n",
      "Test Error: \n",
      " Accuracy: 70.7%, Avg Loss: 0.792543\n",
      "\n",
      "Epoch number 11\n",
      "---------------------------------\n",
      "\n",
      "loss: 0.801237 |     0/60000]\n",
      "loss: 0.865560 |  6400/60000]\n",
      "loss: 0.639542 | 12800/60000]\n",
      "loss: 0.851797 | 19200/60000]\n",
      "loss: 0.743414 | 25600/60000]\n",
      "loss: 0.733227 | 32000/60000]\n",
      "loss: 0.823446 | 38400/60000]\n",
      "loss: 0.796090 | 44800/60000]\n",
      "loss: 0.802273 | 51200/60000]\n",
      "loss: 0.766582 | 57600/60000]\n",
      "Test Error: \n",
      " Accuracy: 72.0%, Avg Loss: 0.766221\n",
      "\n",
      "Epoch number 12\n",
      "---------------------------------\n",
      "\n",
      "loss: 0.762328 |     0/60000]\n",
      "loss: 0.834934 |  6400/60000]\n",
      "loss: 0.607216 | 12800/60000]\n",
      "loss: 0.827165 | 19200/60000]\n",
      "loss: 0.722428 | 25600/60000]\n",
      "loss: 0.706938 | 32000/60000]\n",
      "loss: 0.797623 | 38400/60000]\n",
      "loss: 0.778601 | 44800/60000]\n",
      "loss: 0.779477 | 51200/60000]\n",
      "loss: 0.745137 | 57600/60000]\n",
      "Test Error: \n",
      " Accuracy: 73.0%, Avg Loss: 0.743645\n",
      "\n",
      "Epoch number 13\n",
      "---------------------------------\n",
      "\n",
      "loss: 0.728438 |     0/60000]\n",
      "loss: 0.807557 |  6400/60000]\n",
      "loss: 0.579737 | 12800/60000]\n",
      "loss: 0.806511 | 19200/60000]\n",
      "loss: 0.704239 | 25600/60000]\n",
      "loss: 0.685272 | 32000/60000]\n",
      "loss: 0.774103 | 38400/60000]\n",
      "loss: 0.763318 | 44800/60000]\n",
      "loss: 0.759730 | 51200/60000]\n",
      "loss: 0.726091 | 57600/60000]\n",
      "Test Error: \n",
      " Accuracy: 74.0%, Avg Loss: 0.723721\n",
      "\n",
      "Epoch number 14\n",
      "---------------------------------\n",
      "\n",
      "loss: 0.698345 |     0/60000]\n",
      "loss: 0.782779 |  6400/60000]\n",
      "loss: 0.555959 | 12800/60000]\n",
      "loss: 0.788706 | 19200/60000]\n",
      "loss: 0.688290 | 25600/60000]\n",
      "loss: 0.666909 | 32000/60000]\n",
      "loss: 0.752356 | 38400/60000]\n",
      "loss: 0.749454 | 44800/60000]\n",
      "loss: 0.742364 | 51200/60000]\n",
      "loss: 0.708934 | 57600/60000]\n",
      "Test Error: \n",
      " Accuracy: 74.8%, Avg Loss: 0.705769\n",
      "\n",
      "Epoch number 15\n",
      "---------------------------------\n",
      "\n",
      "loss: 0.671464 |     0/60000]\n",
      "loss: 0.760180 |  6400/60000]\n",
      "loss: 0.535029 | 12800/60000]\n",
      "loss: 0.772878 | 19200/60000]\n",
      "loss: 0.674139 | 25600/60000]\n",
      "loss: 0.651187 | 32000/60000]\n",
      "loss: 0.732000 | 38400/60000]\n",
      "loss: 0.736859 | 44800/60000]\n",
      "loss: 0.726854 | 51200/60000]\n",
      "loss: 0.693101 | 57600/60000]\n",
      "Test Error: \n",
      " Accuracy: 75.5%, Avg Loss: 0.689371\n",
      "\n",
      "Epoch number 16\n",
      "---------------------------------\n",
      "\n",
      "loss: 0.647262 |     0/60000]\n",
      "loss: 0.739516 |  6400/60000]\n",
      "loss: 0.516406 | 12800/60000]\n",
      "loss: 0.758619 | 19200/60000]\n",
      "loss: 0.661370 | 25600/60000]\n",
      "loss: 0.637566 | 32000/60000]\n",
      "loss: 0.712852 | 38400/60000]\n",
      "loss: 0.725320 | 44800/60000]\n",
      "loss: 0.713075 | 51200/60000]\n",
      "loss: 0.678425 | 57600/60000]\n",
      "Test Error: \n",
      " Accuracy: 76.2%, Avg Loss: 0.674289\n",
      "\n",
      "Epoch number 17\n",
      "---------------------------------\n",
      "\n",
      "loss: 0.625376 |     0/60000]\n",
      "loss: 0.720522 |  6400/60000]\n",
      "loss: 0.499693 | 12800/60000]\n",
      "loss: 0.745595 | 19200/60000]\n",
      "loss: 0.649857 | 25600/60000]\n",
      "loss: 0.625727 | 32000/60000]\n",
      "loss: 0.694942 | 38400/60000]\n",
      "loss: 0.714954 | 44800/60000]\n",
      "loss: 0.700842 | 51200/60000]\n",
      "loss: 0.664692 | 57600/60000]\n",
      "Test Error: \n",
      " Accuracy: 76.9%, Avg Loss: 0.660355\n",
      "\n",
      "Epoch number 18\n",
      "---------------------------------\n",
      "\n",
      "loss: 0.605594 |     0/60000]\n",
      "loss: 0.702964 |  6400/60000]\n",
      "loss: 0.484697 | 12800/60000]\n",
      "loss: 0.733604 | 19200/60000]\n",
      "loss: 0.639467 | 25600/60000]\n",
      "loss: 0.615241 | 32000/60000]\n",
      "loss: 0.678324 | 38400/60000]\n",
      "loss: 0.705615 | 44800/60000]\n",
      "loss: 0.690041 | 51200/60000]\n",
      "loss: 0.651803 | 57600/60000]\n",
      "Test Error: \n",
      " Accuracy: 77.4%, Avg Loss: 0.647472\n",
      "\n",
      "Epoch number 19\n",
      "---------------------------------\n",
      "\n",
      "loss: 0.587602 |     0/60000]\n",
      "loss: 0.686758 |  6400/60000]\n",
      "loss: 0.471256 | 12800/60000]\n",
      "loss: 0.722403 | 19200/60000]\n",
      "loss: 0.629901 | 25600/60000]\n",
      "loss: 0.605937 | 32000/60000]\n",
      "loss: 0.662679 | 38400/60000]\n",
      "loss: 0.697351 | 44800/60000]\n",
      "loss: 0.680635 | 51200/60000]\n",
      "loss: 0.639757 | 57600/60000]\n",
      "Test Error: \n",
      " Accuracy: 78.0%, Avg Loss: 0.635574\n",
      "\n",
      "Epoch number 20\n",
      "---------------------------------\n",
      "\n",
      "loss: 0.571301 |     0/60000]\n",
      "loss: 0.671820 |  6400/60000]\n",
      "loss: 0.459029 | 12800/60000]\n",
      "loss: 0.712036 | 19200/60000]\n",
      "loss: 0.621133 | 25600/60000]\n",
      "loss: 0.597574 | 32000/60000]\n",
      "loss: 0.648029 | 38400/60000]\n",
      "loss: 0.690127 | 44800/60000]\n",
      "loss: 0.672521 | 51200/60000]\n",
      "loss: 0.628429 | 57600/60000]\n",
      "Test Error: \n",
      " Accuracy: 78.4%, Avg Loss: 0.624584\n",
      "\n"
     ]
    }
   ],
   "source": [
    "epochs = 20\n",
    "for t in range(epochs):\n",
    "    print(f\"Epoch number {t+1}\\n---------------------------------\\n\")\n",
    "    train_model(training_dataloader, model, loss_fn, optimizer)\n",
    "    test_loop(testing_dataloader, model, loss_fn)\n",
    "    "
   ]
  },
  {
   "cell_type": "code",
   "execution_count": null,
   "id": "7d79c1cc",
   "metadata": {},
   "outputs": [],
   "source": []
  },
  {
   "cell_type": "markdown",
   "id": "1281f1e4",
   "metadata": {},
   "source": [
    "## Save and Load the Model"
   ]
  },
  {
   "cell_type": "code",
   "execution_count": 70,
   "id": "3e970037",
   "metadata": {},
   "outputs": [],
   "source": [
    "import torch\n",
    "import torchvision.models as models\n"
   ]
  },
  {
   "cell_type": "code",
   "execution_count": 71,
   "id": "74aaac50",
   "metadata": {},
   "outputs": [
    {
     "name": "stderr",
     "output_type": "stream",
     "text": [
      "Downloading: \"https://download.pytorch.org/models/vgg16-397923af.pth\" to /Users/samart/.cache/torch/hub/checkpoints/vgg16-397923af.pth\n"
     ]
    },
    {
     "data": {
      "application/vnd.jupyter.widget-view+json": {
       "model_id": "e1c34b0043c2460f83eb87d0f42fd809",
       "version_major": 2,
       "version_minor": 0
      },
      "text/plain": [
       "  0%|          | 0.00/528M [00:00<?, ?B/s]"
      ]
     },
     "metadata": {},
     "output_type": "display_data"
    }
   ],
   "source": [
    "model = models.vgg16(pretrained=True)\n",
    "torch.save(model.state_dict(), 'model_weights.pth')\n"
   ]
  },
  {
   "cell_type": "code",
   "execution_count": 72,
   "id": "cdf41b5b",
   "metadata": {},
   "outputs": [
    {
     "data": {
      "text/plain": [
       "VGG(\n",
       "  (features): Sequential(\n",
       "    (0): Conv2d(3, 64, kernel_size=(3, 3), stride=(1, 1), padding=(1, 1))\n",
       "    (1): ReLU(inplace=True)\n",
       "    (2): Conv2d(64, 64, kernel_size=(3, 3), stride=(1, 1), padding=(1, 1))\n",
       "    (3): ReLU(inplace=True)\n",
       "    (4): MaxPool2d(kernel_size=2, stride=2, padding=0, dilation=1, ceil_mode=False)\n",
       "    (5): Conv2d(64, 128, kernel_size=(3, 3), stride=(1, 1), padding=(1, 1))\n",
       "    (6): ReLU(inplace=True)\n",
       "    (7): Conv2d(128, 128, kernel_size=(3, 3), stride=(1, 1), padding=(1, 1))\n",
       "    (8): ReLU(inplace=True)\n",
       "    (9): MaxPool2d(kernel_size=2, stride=2, padding=0, dilation=1, ceil_mode=False)\n",
       "    (10): Conv2d(128, 256, kernel_size=(3, 3), stride=(1, 1), padding=(1, 1))\n",
       "    (11): ReLU(inplace=True)\n",
       "    (12): Conv2d(256, 256, kernel_size=(3, 3), stride=(1, 1), padding=(1, 1))\n",
       "    (13): ReLU(inplace=True)\n",
       "    (14): Conv2d(256, 256, kernel_size=(3, 3), stride=(1, 1), padding=(1, 1))\n",
       "    (15): ReLU(inplace=True)\n",
       "    (16): MaxPool2d(kernel_size=2, stride=2, padding=0, dilation=1, ceil_mode=False)\n",
       "    (17): Conv2d(256, 512, kernel_size=(3, 3), stride=(1, 1), padding=(1, 1))\n",
       "    (18): ReLU(inplace=True)\n",
       "    (19): Conv2d(512, 512, kernel_size=(3, 3), stride=(1, 1), padding=(1, 1))\n",
       "    (20): ReLU(inplace=True)\n",
       "    (21): Conv2d(512, 512, kernel_size=(3, 3), stride=(1, 1), padding=(1, 1))\n",
       "    (22): ReLU(inplace=True)\n",
       "    (23): MaxPool2d(kernel_size=2, stride=2, padding=0, dilation=1, ceil_mode=False)\n",
       "    (24): Conv2d(512, 512, kernel_size=(3, 3), stride=(1, 1), padding=(1, 1))\n",
       "    (25): ReLU(inplace=True)\n",
       "    (26): Conv2d(512, 512, kernel_size=(3, 3), stride=(1, 1), padding=(1, 1))\n",
       "    (27): ReLU(inplace=True)\n",
       "    (28): Conv2d(512, 512, kernel_size=(3, 3), stride=(1, 1), padding=(1, 1))\n",
       "    (29): ReLU(inplace=True)\n",
       "    (30): MaxPool2d(kernel_size=2, stride=2, padding=0, dilation=1, ceil_mode=False)\n",
       "  )\n",
       "  (avgpool): AdaptiveAvgPool2d(output_size=(7, 7))\n",
       "  (classifier): Sequential(\n",
       "    (0): Linear(in_features=25088, out_features=4096, bias=True)\n",
       "    (1): ReLU(inplace=True)\n",
       "    (2): Dropout(p=0.5, inplace=False)\n",
       "    (3): Linear(in_features=4096, out_features=4096, bias=True)\n",
       "    (4): ReLU(inplace=True)\n",
       "    (5): Dropout(p=0.5, inplace=False)\n",
       "    (6): Linear(in_features=4096, out_features=1000, bias=True)\n",
       "  )\n",
       ")"
      ]
     },
     "execution_count": 72,
     "metadata": {},
     "output_type": "execute_result"
    }
   ],
   "source": [
    "model = models.vgg16()\n",
    "model.load_state_dict(torch.load('model_weights.pth'))\n",
    "model.eval()"
   ]
  },
  {
   "cell_type": "code",
   "execution_count": null,
   "id": "d0439fd3",
   "metadata": {},
   "outputs": [],
   "source": []
  },
  {
   "cell_type": "code",
   "execution_count": 90,
   "id": "994777e3",
   "metadata": {},
   "outputs": [
    {
     "data": {
      "text/plain": [
       "<matplotlib.image.AxesImage at 0x7f8c52e71be0>"
      ]
     },
     "execution_count": 90,
     "metadata": {},
     "output_type": "execute_result"
    },
    {
     "data": {
      "image/png": "[encoded data removed]",
      "text/plain": [
       "<Figure size 432x288 with 1 Axes>"
      ]
     },
     "metadata": {
      "needs_background": "light"
     },
     "output_type": "display_data"
    }
   ],
   "source": [
    "plt.imshow(testing_dataloader.dataset[15][0].flatten().reshape(28,28), cmap='gray')"
   ]
  },
  {
   "cell_type": "code",
   "execution_count": null,
   "id": "1298316e",
   "metadata": {},
   "outputs": [],
   "source": []
  },
  {
   "cell_type": "code",
   "execution_count": null,
   "id": "24ca87eb",
   "metadata": {},
   "outputs": [],
   "source": []
  },
  {
   "cell_type": "code",
   "execution_count": null,
   "id": "d160fd34",
   "metadata": {},
   "outputs": [],
   "source": []
  },
  {
   "cell_type": "code",
   "execution_count": null,
   "id": "f8267f6b",
   "metadata": {},
   "outputs": [],
   "source": []
  },
  {
   "cell_type": "code",
   "execution_count": null,
   "id": "67a6a781",
   "metadata": {},
   "outputs": [],
   "source": []
  },
  {
   "cell_type": "code",
   "execution_count": null,
   "id": "8aa281ba",
   "metadata": {},
   "outputs": [],
   "source": []
  },
  {
   "cell_type": "code",
   "execution_count": null,
   "id": "f190bb13",
   "metadata": {},
   "outputs": [],
   "source": []
  }
 ],
 "metadata": {
  "kernelspec": {
   "display_name": "Python 3 (ipykernel)",
   "language": "python",
   "name": "python3"
  },
  "language_info": {
   "codemirror_mode": {
    "name": "ipython",
    "version": 3
   },
   "file_extension": ".py",
   "mimetype": "text/x-python",
   "name": "python",
   "nbconvert_exporter": "python",
   "pygments_lexer": "ipython3",
   "version": "3.10.13"
  }
 },
 "nbformat": 4,
 "nbformat_minor": 5
}
