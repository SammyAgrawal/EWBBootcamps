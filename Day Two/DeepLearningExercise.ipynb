{
 "cells": [
  {
   "cell_type": "markdown",
   "id": "d1305c27-293b-40eb-9f04-4b437a7dfd98",
   "metadata": {},
   "source": [
    "# Diving into Deep Learning"
   ]
  },
  {
   "cell_type": "markdown",
   "id": "4a7360a7-f90f-43da-a694-7cc0b11409b9",
   "metadata": {},
   "source": [
    "In this assignment, we will dive right using machine learning to model how bad climate change will be. \n",
    "\n",
    "We will use the climate bench dataset, whose processing is covered in the example notebook. "
   ]
  },
  {
   "cell_type": "code",
   "execution_count": null,
   "id": "cae7dcbd-8a79-4541-952e-d8ea994db010",
   "metadata": {},
   "outputs": [],
   "source": []
  },
  {
   "cell_type": "code",
   "execution_count": null,
   "id": "752323a0-32cc-4cdf-ace1-e21fd6388270",
   "metadata": {},
   "outputs": [],
   "source": []
  }
 ],
 "metadata": {
  "kernelspec": {
   "display_name": "Python 3 (ipykernel)",
   "language": "python",
   "name": "python3"
  },
  "language_info": {
   "codemirror_mode": {
    "name": "ipython",
    "version": 3
   },
   "file_extension": ".py",
   "mimetype": "text/x-python",
   "name": "python",
   "nbconvert_exporter": "python",
   "pygments_lexer": "ipython3",
   "version": "3.11.7"
  }
 },
 "nbformat": 4,
 "nbformat_minor": 5
}
