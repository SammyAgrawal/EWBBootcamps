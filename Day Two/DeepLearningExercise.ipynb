{
 "cells": [
  {
   "cell_type": "markdown",
   "id": "d1305c27-293b-40eb-9f04-4b437a7dfd98",
   "metadata": {},
   "source": [
    "# Diving into Deep Learning"
   ]
  },
  {
   "cell_type": "markdown",
   "id": "4a7360a7-f90f-43da-a694-7cc0b11409b9",
   "metadata": {},
   "source": [
    "In this assignment, we will dive right using machine learning to model how bad climate change will be. \n",
    "\n",
    "We will use the climate bench dataset, whose processing is covered in the example notebook. "
   ]
  },
  {
   "cell_type": "code",
   "execution_count": 2,
   "id": "b10d7871-9747-4159-957d-82351cca49a0",
   "metadata": {},
   "outputs": [],
   "source": [
    "import torch\n",
    "import numpy as np\n",
    "from torch import nn\n",
    "from torch.utils.data import DataLoader, Dataset"
   ]
  },
  {
   "cell_type": "code",
   "execution_count": 7,
   "id": "4fdf259b-cfaf-442a-8959-2438b26fb0c0",
   "metadata": {},
   "outputs": [
    {
     "name": "stdout",
     "output_type": "stream",
     "text": [
      "Using cuda device\n"
     ]
    }
   ],
   "source": [
    "device = (\n",
    "    \"cuda\"\n",
    "    if torch.cuda.is_available()\n",
    "    else \"mps\"\n",
    "    if torch.backends.mps.is_available()\n",
    "    else \"cpu\"\n",
    ")\n",
    "print(f\"Using {device} device\")"
   ]
  },
  {
   "cell_type": "markdown",
   "id": "53b260f2-abae-40f7-8dc3-61aa883bc1ae",
   "metadata": {},
   "source": [
    "### Loading Data into Batches\n",
    "[Loading Data in Pytorch](https://pytorch.org/tutorials/beginner/basics/data_tutorial.html)"
   ]
  },
  {
   "cell_type": "code",
   "execution_count": 3,
   "id": "cae7dcbd-8a79-4541-952e-d8ea994db010",
   "metadata": {},
   "outputs": [],
   "source": [
    "from torch.utils.data import DataLoader, Dataset"
   ]
  },
  {
   "cell_type": "code",
   "execution_count": 5,
   "id": "553671bf-a34f-4ba3-8d7d-b0f511f312fd",
   "metadata": {},
   "outputs": [
    {
     "ename": "SyntaxError",
     "evalue": "invalid syntax (3765869357.py, line 2)",
     "output_type": "error",
     "traceback": [
      "\u001b[0;36m  Cell \u001b[0;32mIn[5], line 2\u001b[0;36m\u001b[0m\n\u001b[0;31m    def __init__(self, ...):\u001b[0m\n\u001b[0m                       ^\u001b[0m\n\u001b[0;31mSyntaxError\u001b[0m\u001b[0;31m:\u001b[0m invalid syntax\n"
     ]
    }
   ],
   "source": [
    "class MyDataset(torch.Dataset):\n",
    "    def __init__(self, ...):\n",
    "        pass\n",
    "\n",
    "    def __len__(self):\n",
    "        pass\n",
    "\n",
    "    def __getitem__(self, index):\n",
    "        # return (X,y) pair\n",
    "        pass"
   ]
  },
  {
   "cell_type": "code",
   "execution_count": 6,
   "id": "12f0c82a-b669-42db-a82b-8c46d4590666",
   "metadata": {},
   "outputs": [],
   "source": [
    "trainingDataset = 0\n",
    "\n",
    "testDataset = 0"
   ]
  },
  {
   "cell_type": "markdown",
   "id": "2b584344-0e72-4fb6-9468-1d84f8b3cace",
   "metadata": {},
   "source": [
    "### Define Model Architecture\n",
    "\n",
    "Helpful Links:\n",
    "- [Neural Network Class](https://pytorch.org/docs/stable/generated/torch.nn.Module.html)\n",
    "- [Torch Quickstart](https://pytorch.org/tutorials/beginner/basics/quickstart_tutorial.html)\n"
   ]
  },
  {
   "cell_type": "code",
   "execution_count": null,
   "id": "d15f3c84-310f-4ada-8802-af6d356e06e5",
   "metadata": {},
   "outputs": [],
   "source": []
  },
  {
   "cell_type": "code",
   "execution_count": 8,
   "id": "61c3df63-6541-4fd6-9a44-efdc98a7e4bf",
   "metadata": {},
   "outputs": [],
   "source": [
    "class MyNeuralNetwork(nn.Module):\n",
    "    def __init__(self):\n",
    "        super().__init__()\n",
    "\n",
    "    def forward(self, X):\n",
    "        pass"
   ]
  },
  {
   "cell_type": "code",
   "execution_count": null,
   "id": "cd211356-9d5b-4368-b11a-b147d159c8e8",
   "metadata": {},
   "outputs": [],
   "source": []
  },
  {
   "cell_type": "markdown",
   "id": "969053cf-7e86-424c-8b68-d85e7f3e5bc2",
   "metadata": {},
   "source": [
    "## Run Training Loop\n",
    "\n",
    "Helpful Resources:\n",
    "- [Optimizer Object](https://pytorch.org/docs/stable/optim.html)\n",
    "- \n"
   ]
  },
  {
   "cell_type": "code",
   "execution_count": null,
   "id": "4638e649-c3c0-4270-878b-0f8856f85b26",
   "metadata": {},
   "outputs": [],
   "source": [
    "# set hyperparameters\n",
    "n_neuron       = 64\n",
    "num_epochs     = 50\n",
    "learning_rate  = 0.001\n",
    "minibatch_size = 64\n",
    "model_num      = 1\n",
    "N_layers       = 2 # number of hidden layers"
   ]
  },
  {
   "cell_type": "code",
   "execution_count": 10,
   "id": "cfad5665-5ddf-4479-a07f-00733fc1ab2f",
   "metadata": {},
   "outputs": [
    {
     "name": "stdout",
     "output_type": "stream",
     "text": [
      "MyNeuralNetwork()\n"
     ]
    }
   ],
   "source": [
    "model = MyNeuralNetwork().to(device)\n",
    "print(model)"
   ]
  },
  {
   "cell_type": "code",
   "execution_count": null,
   "id": "2ac7de87-b2ea-4a58-86b3-d5fe650cb6ac",
   "metadata": {},
   "outputs": [],
   "source": []
  },
  {
   "cell_type": "markdown",
   "id": "23974e97-8c0f-4105-abe5-96048c611da5",
   "metadata": {},
   "source": [
    "### Saving and Evaluating Model"
   ]
  },
  {
   "cell_type": "code",
   "execution_count": null,
   "id": "f85d476f-a7c6-4f27-b1e5-8dae634225e2",
   "metadata": {},
   "outputs": [],
   "source": []
  }
 ],
 "metadata": {
  "kernelspec": {
   "display_name": "Python 3 (ipykernel)",
   "language": "python",
   "name": "python3"
  },
  "language_info": {
   "codemirror_mode": {
    "name": "ipython",
    "version": 3
   },
   "file_extension": ".py",
   "mimetype": "text/x-python",
   "name": "python",
   "nbconvert_exporter": "python",
   "pygments_lexer": "ipython3",
   "version": "3.11.7"
  }
 },
 "nbformat": 4,
 "nbformat_minor": 5
}
