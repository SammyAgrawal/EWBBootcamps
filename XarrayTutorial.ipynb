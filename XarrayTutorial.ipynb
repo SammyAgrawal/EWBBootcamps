{
 "cells": [
  {
   "cell_type": "markdown",
   "id": "76402de8-b97b-43a3-acf0-e6166c147b60",
   "metadata": {},
   "source": [
    "# Xarray Fundamentals"
   ]
  },
  {
   "cell_type": "markdown",
   "id": "3fd843a1-4a59-41c8-ad36-3d4eca6c1471",
   "metadata": {},
   "source": [
    "In this lesson, we will be diving into [xarray](https://earth-env-data-science.github.io/lectures/xarray/xarray_intro.html), an incredibly powerful tool for multi-dimensional data. Xarray grew out of the physical sciences to deal with the ubiquitous data processing tasks scientists dealt with everyday!"
   ]
  },
  {
   "cell_type": "markdown",
   "id": "30ff1c11-d3ae-494e-ae70-9bedf19d3aa2",
   "metadata": {},
   "source": [
    "### 1) Import Packages and Load Data"
   ]
  },
  {
   "cell_type": "code",
   "execution_count": null,
   "id": "3be03753-4c87-4aaf-8233-4b18d80fd97c",
   "metadata": {},
   "outputs": [],
   "source": []
  },
  {
   "cell_type": "code",
   "execution_count": 3,
   "id": "940c246b-4200-4fb6-ab8f-acc9e634bd94",
   "metadata": {},
   "outputs": [],
   "source": [
    "url = \"https://www.ldeo.columbia.edu/~rpa/float_data_4901412.zip\""
   ]
  },
  {
   "cell_type": "code",
   "execution_count": null,
   "id": "879524d1-bf01-4fb3-9010-9ed4383e35a2",
   "metadata": {},
   "outputs": [],
   "source": []
  },
  {
   "cell_type": "code",
   "execution_count": null,
   "id": "d7b47c67-c6b7-40aa-b747-b4b92d33e970",
   "metadata": {},
   "outputs": [],
   "source": []
  },
  {
   "cell_type": "markdown",
   "id": "3af2bc89-87e3-47e0-b7a8-f79e63d4462d",
   "metadata": {},
   "source": [
    "### 2) Data Exploration"
   ]
  },
  {
   "cell_type": "code",
   "execution_count": 2,
   "id": "3103241a-7ae6-4880-af4f-603e9210f677",
   "metadata": {},
   "outputs": [],
   "source": []
  },
  {
   "cell_type": "code",
   "execution_count": null,
   "id": "4b78271d-7f1e-4539-a947-69c2cb9eb0dd",
   "metadata": {},
   "outputs": [],
   "source": []
  },
  {
   "cell_type": "markdown",
   "id": "68ad812d-94b0-4bd2-955c-853f85c2fe3e",
   "metadata": {},
   "source": [
    "### 3) Merging into Datasets- Indexing and Selection"
   ]
  },
  {
   "cell_type": "code",
   "execution_count": null,
   "id": "d952b9ca-601a-454f-bf92-e57c4841e8cb",
   "metadata": {},
   "outputs": [],
   "source": []
  },
  {
   "cell_type": "code",
   "execution_count": null,
   "id": "9c33497a-b893-42fe-9f5d-ce316973bf2d",
   "metadata": {},
   "outputs": [],
   "source": []
  },
  {
   "cell_type": "markdown",
   "id": "c66de6c1-5a1c-404e-8f10-86c6891fcd16",
   "metadata": {},
   "source": [
    "### 4) Computations\n",
    "\n",
    "Data science = Statistics + Linear Algebra"
   ]
  },
  {
   "cell_type": "code",
   "execution_count": null,
   "id": "6f6cba52-5a8f-4bc5-b66c-7a7c21663c3d",
   "metadata": {},
   "outputs": [],
   "source": []
  }
 ],
 "metadata": {
  "kernelspec": {
   "display_name": "Python 3 (ipykernel)",
   "language": "python",
   "name": "python3"
  },
  "language_info": {
   "codemirror_mode": {
    "name": "ipython",
    "version": 3
   },
   "file_extension": ".py",
   "mimetype": "text/x-python",
   "name": "python",
   "nbconvert_exporter": "python",
   "pygments_lexer": "ipython3",
   "version": "3.11.7"
  }
 },
 "nbformat": 4,
 "nbformat_minor": 5
}
