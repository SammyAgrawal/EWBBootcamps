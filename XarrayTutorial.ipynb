{
 "cells": [
  {
   "cell_type": "markdown",
   "id": "167d3ff1-b2f4-4d55-87af-7f5ef702c803",
   "metadata": {},
   "source": [
    "# LEAP x Engineers without Borders Climate Data Science Workshop"
   ]
  },
  {
   "cell_type": "markdown",
   "id": "64d81dbe-ee60-46de-8b27-9f72129fb72e",
   "metadata": {},
   "source": [
    "## Agenda\n",
    "\n",
    "**1.)** 12 - 12:15 : Introductions\n",
    "\n",
    "**2.)** 12:15 - 1:15 : Live Coding Session (this)\n",
    "\n",
    "**3.)** 1:15 - 1:30 : Break for Lunch\n",
    "\n",
    "**4.)** 1:30 - 2:30 : Studio time: Work on Assignment One\n",
    "\n",
    "**5. )** 2:30 - 3:00 : Group decides whether to either cover more content or more studio time"
   ]
  },
  {
   "cell_type": "code",
   "execution_count": 1,
   "id": "82307101-48d8-48d8-bd55-91ecdc911d19",
   "metadata": {},
   "outputs": [],
   "source": [
    "import xarray as xr\n",
    "import numpy as np\n",
    "from matplotlib import pyplot as plt\n",
    "import os\n",
    "plt.rcParams['figure.figsize'] = (12, 6)\n",
    "%config InlineBackend.figure_format = 'retina'"
   ]
  },
  {
   "cell_type": "markdown",
   "id": "76402de8-b97b-43a3-acf0-e6166c147b60",
   "metadata": {},
   "source": [
    "# Xarray Fundamentals"
   ]
  },
  {
   "cell_type": "markdown",
   "id": "3fd843a1-4a59-41c8-ad36-3d4eca6c1471",
   "metadata": {},
   "source": [
    "In this lesson, we will be diving into [xarray](https://earth-env-data-science.github.io/lectures/xarray/xarray_intro.html), an incredibly powerful tool for multi-dimensional data. Xarray grew out of the physical sciences to deal with the ubiquitous data processing tasks scientists dealt with everyday!"
   ]
  },
  {
   "cell_type": "markdown",
   "id": "30ff1c11-d3ae-494e-ae70-9bedf19d3aa2",
   "metadata": {},
   "source": [
    "### 1) Import Packages and Load Data"
   ]
  },
  {
   "cell_type": "markdown",
   "id": "b740e62f-847e-4ac2-bc9d-82961481c697",
   "metadata": {},
   "source": [
    "For this introduction, we will analyze data from the [Argo floats](https://argo.ucsd.edu/about/). "
   ]
  },
  {
   "cell_type": "code",
   "execution_count": null,
   "id": "3be03753-4c87-4aaf-8233-4b18d80fd97c",
   "metadata": {},
   "outputs": [],
   "source": [
    "url = \"https://www.ldeo.columbia.edu/~rpa/float_data_4901412.zip\""
   ]
  },
  {
   "cell_type": "code",
   "execution_count": 2,
   "id": "940c246b-4200-4fb6-ab8f-acc9e634bd94",
   "metadata": {},
   "outputs": [
    {
     "data": {
      "text/plain": [
       "['/home/jovyan/.cache/pooch/7e6685dbe2a3c0b0870f770f3ef413d9-float_data_4901412.zip.unzip/float_data/P.npy',\n",
       " '/home/jovyan/.cache/pooch/7e6685dbe2a3c0b0870f770f3ef413d9-float_data_4901412.zip.unzip/float_data/S.npy',\n",
       " '/home/jovyan/.cache/pooch/7e6685dbe2a3c0b0870f770f3ef413d9-float_data_4901412.zip.unzip/float_data/T.npy',\n",
       " '/home/jovyan/.cache/pooch/7e6685dbe2a3c0b0870f770f3ef413d9-float_data_4901412.zip.unzip/float_data/date.npy',\n",
       " '/home/jovyan/.cache/pooch/7e6685dbe2a3c0b0870f770f3ef413d9-float_data_4901412.zip.unzip/float_data/lat.npy',\n",
       " '/home/jovyan/.cache/pooch/7e6685dbe2a3c0b0870f770f3ef413d9-float_data_4901412.zip.unzip/float_data/levels.npy',\n",
       " '/home/jovyan/.cache/pooch/7e6685dbe2a3c0b0870f770f3ef413d9-float_data_4901412.zip.unzip/float_data/lon.npy']"
      ]
     },
     "execution_count": 2,
     "metadata": {},
     "output_type": "execute_result"
    }
   ],
   "source": [
    "import pooch\n",
    "url = \"https://www.ldeo.columbia.edu/~rpa/float_data_4901412.zip\"\n",
    "files = pooch.retrieve(url, processor=pooch.Unzip(), known_hash=\"2a703c720302c682f1662181d329c9f22f9f10e1539dc2d6082160a469165009\")\n",
    "files.sort()\n",
    "files"
   ]
  },
  {
   "cell_type": "code",
   "execution_count": null,
   "id": "879524d1-bf01-4fb3-9010-9ed4383e35a2",
   "metadata": {},
   "outputs": [],
   "source": []
  },
  {
   "cell_type": "code",
   "execution_count": null,
   "id": "d7b47c67-c6b7-40aa-b747-b4b92d33e970",
   "metadata": {},
   "outputs": [],
   "source": []
  },
  {
   "cell_type": "markdown",
   "id": "3af2bc89-87e3-47e0-b7a8-f79e63d4462d",
   "metadata": {},
   "source": [
    "### 2) Data Exploration\n",
    "\n",
    "filter and plot the data along dimensions of interest\n",
    "\n",
    "Learning Outcome: \n",
    "\n",
    "- Understand Dimensions and Coordinates, be able to select and plot data of interest\n",
    "- Be able to perform and visualize condition selection\n"
   ]
  },
  {
   "cell_type": "code",
   "execution_count": 2,
   "id": "3103241a-7ae6-4880-af4f-603e9210f677",
   "metadata": {},
   "outputs": [],
   "source": []
  },
  {
   "cell_type": "code",
   "execution_count": null,
   "id": "4b78271d-7f1e-4539-a947-69c2cb9eb0dd",
   "metadata": {},
   "outputs": [],
   "source": []
  },
  {
   "cell_type": "code",
   "execution_count": null,
   "id": "9c33497a-b893-42fe-9f5d-ce316973bf2d",
   "metadata": {},
   "outputs": [],
   "source": []
  },
  {
   "cell_type": "markdown",
   "id": "c66de6c1-5a1c-404e-8f10-86c6891fcd16",
   "metadata": {},
   "source": [
    "### 3) Computations\n",
    "\n",
    "Data science = Statistics + Linear Algebra\n",
    "\n",
    "Learning Outcome: \n",
    "- algebraically manipulate the dataa and calculate new oceanic quantities such as buoyancy or seawater density\n",
    "- Take basic statistical measures (mean, standard deviation) across dimensions of interest\n",
    "\n",
    "We can also take inspiration from the [Xarray Docs](https://docs.xarray.dev/en/stable/user-guide/computation.html), where they highlight *differentiation*, *curve fitting*, and other really cool manipulations! And of course, we can combine this with all other python libraries because its all numpy under the hood!"
   ]
  },
  {
   "cell_type": "code",
   "execution_count": null,
   "id": "65fe66a4-df8c-441a-bec1-03b8bd36ce5f",
   "metadata": {},
   "outputs": [],
   "source": []
  },
  {
   "cell_type": "code",
   "execution_count": null,
   "id": "b95f57b5-6a22-46ee-920f-f37ee492b01e",
   "metadata": {},
   "outputs": [],
   "source": []
  },
  {
   "cell_type": "markdown",
   "id": "de1994ae-873f-4d3c-aaf1-8438dd2012b3",
   "metadata": {},
   "source": [
    "Let us see if we can calculate oceanic quantities of interest from our data. We can do whatever we want, as long as we know how to get there from temperature, pressure, and salinity\n",
    "\n",
    "[buoyancy](http://kestrel.nmt.edu/~raymond/classes/ph332/notes/preliminary/preliminary.pdf) and [density](https://manoa.hawaii.edu/exploringourfluidearth/physical/density-effects/density-temperature-and-salinity)"
   ]
  },
  {
   "cell_type": "code",
   "execution_count": null,
   "id": "e64c471f-4a14-4b04-acc8-6484baa39f76",
   "metadata": {},
   "outputs": [],
   "source": []
  },
  {
   "cell_type": "code",
   "execution_count": null,
   "id": "4d9d8bd5-9f6b-4672-ba8e-8b70d0afda8d",
   "metadata": {},
   "outputs": [],
   "source": []
  }
 ],
 "metadata": {
  "kernelspec": {
   "display_name": "Python 3 (ipykernel)",
   "language": "python",
   "name": "python3"
  },
  "language_info": {
   "codemirror_mode": {
    "name": "ipython",
    "version": 3
   },
   "file_extension": ".py",
   "mimetype": "text/x-python",
   "name": "python",
   "nbconvert_exporter": "python",
   "pygments_lexer": "ipython3",
   "version": "3.11.7"
  }
 },
 "nbformat": 4,
 "nbformat_minor": 5
}
